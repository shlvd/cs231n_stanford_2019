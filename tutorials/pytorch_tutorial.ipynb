{
  "nbformat": 4,
  "nbformat_minor": 0,
  "metadata": {
    "kernelspec": {
      "name": "python3",
      "display_name": "Python 3"
    },
    "language_info": {
      "codemirror_mode": {
        "name": "ipython",
        "version": 3
      },
      "file_extension": ".py",
      "mimetype": "text/x-python",
      "name": "python",
      "nbconvert_exporter": "python",
      "pygments_lexer": "ipython3",
      "version": "3.7.1"
    },
    "colab": {
      "name": "pytorch_tutorial.ipynb",
      "provenance": [],
      "toc_visible": true
    },
    "accelerator": "GPU"
  },
  "cells": [
    {
      "cell_type": "code",
      "metadata": {
        "id": "JbZAboyNK-0r",
        "colab_type": "code",
        "colab": {}
      },
      "source": [
        "%matplotlib inline"
      ],
      "execution_count": 0,
      "outputs": []
    },
    {
      "cell_type": "markdown",
      "metadata": {
        "id": "GYam3Am6K-00",
        "colab_type": "text"
      },
      "source": [
        "## PyTorch Basics\n",
        "### What is PyTorch?\n",
        "It is a **replacement for NumPy** to use the power of GPUs, and a **deep learning research platform** that provides maximum flexibility and speed ([source](https://pytorch.org/tutorials/beginner/blitz/tensor_tutorial.html#sphx-glr-beginner-blitz-tensor-tutorial-py)).\n",
        "\n",
        "You can create a [PyTorch tensor](https://pytorch.org/docs/stable/tensors.html) in a similary way that you create a NumPy ndarray:"
      ]
    },
    {
      "cell_type": "code",
      "metadata": {
        "id": "9beEr1gfK-02",
        "colab_type": "code",
        "colab": {
          "base_uri": "https://localhost:8080/",
          "height": 170
        },
        "outputId": "b4628cd3-4bda-4163-95ac-53dd5a5ef090"
      },
      "source": [
        "import numpy as np\n",
        "import torch\n",
        "print(\"torch version:\", torch.__version__) # please use pytorch 1.0\n",
        "\n",
        "print('\\nCreate a zero ndarray in NumPy:')\n",
        "zero_np = np.zeros([2, 3])\n",
        "print(zero_np)\n",
        "print('\\nCreate a zero tensor in PyTorch:')\n",
        "zero_pt = torch.zeros([2,3])\n",
        "print(zero_pt)"
      ],
      "execution_count": 1,
      "outputs": [
        {
          "output_type": "stream",
          "text": [
            "torch version: 1.3.1\n",
            "\n",
            "Create a zero ndarray in NumPy:\n",
            "[[0. 0. 0.]\n",
            " [0. 0. 0.]]\n",
            "\n",
            "Create a zero tensor in PyTorch:\n",
            "tensor([[0., 0., 0.],\n",
            "        [0., 0., 0.]])\n"
          ],
          "name": "stdout"
        }
      ]
    },
    {
      "cell_type": "markdown",
      "metadata": {
        "id": "6dfvpBAoK-08",
        "colab_type": "text"
      },
      "source": [
        "You can index into the tensor the same way you index a ndarray:"
      ]
    },
    {
      "cell_type": "code",
      "metadata": {
        "id": "CG1wMbC1K-09",
        "colab_type": "code",
        "colab": {
          "base_uri": "https://localhost:8080/",
          "height": 68
        },
        "outputId": "701ea01e-f72e-4d6d-d9c0-95c89056421b"
      },
      "source": [
        "print(\"numpy: zero_np[0,1]: {}\\t(type: {})\".format(str(zero_np[0,1]), type(zero_np[0,1])))\n",
        "print(\"torch: zero_pt[0,1]: {}\\t(type: {} / shape: {})\".format(str(zero_pt[0,1]), type(zero_pt[0,1]), zero_pt[0,1].shape))\n",
        "# Use \"item()\" to get a Python number from a single-valued tensor.\n",
        "print(\"       zero_pt[0,1].item(): {}\\t(type: {})\".format(zero_pt[0,1].item(), type(zero_pt[0,1].item())))"
      ],
      "execution_count": 2,
      "outputs": [
        {
          "output_type": "stream",
          "text": [
            "numpy: zero_np[0,1]: 0.0\t(type: <class 'numpy.float64'>)\n",
            "torch: zero_pt[0,1]: tensor(0.)\t(type: <class 'torch.Tensor'> / shape: torch.Size([]))\n",
            "       zero_pt[0,1].item(): 0.0\t(type: <class 'float'>)\n"
          ],
          "name": "stdout"
        }
      ]
    },
    {
      "cell_type": "markdown",
      "metadata": {
        "id": "hUzSwoOZK-1D",
        "colab_type": "text"
      },
      "source": [
        "A ndarray can be turned into a tensor, and vice versa:"
      ]
    },
    {
      "cell_type": "code",
      "metadata": {
        "id": "M3kMe_1wK-1E",
        "colab_type": "code",
        "colab": {
          "base_uri": "https://localhost:8080/",
          "height": 204
        },
        "outputId": "dcf8708b-7e09-4b07-fa61-ac3bbdd8a710"
      },
      "source": [
        "print('Turn a ndarray into a tensor with \"torch.tensor()\":')\n",
        "zero_pt_from_np = torch.tensor(zero_np)\n",
        "print(zero_pt_from_np)\n",
        "print('or \"torch.from_numpy():\"')\n",
        "zero_pt_from_np = torch.from_numpy(zero_np)\n",
        "print(zero_pt_from_np)\n",
        "\n",
        "print('\\nTurn a tensor into ndarray with \".numpy()\":')\n",
        "zero_np_from_pt = zero_pt.numpy()\n",
        "print(zero_np_from_pt)\n",
        "print(type(zero_np_from_pt))"
      ],
      "execution_count": 3,
      "outputs": [
        {
          "output_type": "stream",
          "text": [
            "Turn a ndarray into a tensor with \"torch.tensor()\":\n",
            "tensor([[0., 0., 0.],\n",
            "        [0., 0., 0.]], dtype=torch.float64)\n",
            "or \"torch.from_numpy():\"\n",
            "tensor([[0., 0., 0.],\n",
            "        [0., 0., 0.]], dtype=torch.float64)\n",
            "\n",
            "Turn a tensor into ndarray with \".numpy()\":\n",
            "[[0. 0. 0.]\n",
            " [0. 0. 0.]]\n",
            "<class 'numpy.ndarray'>\n"
          ],
          "name": "stdout"
        }
      ]
    },
    {
      "cell_type": "markdown",
      "metadata": {
        "id": "1gpTVCZ0K-1J",
        "colab_type": "text"
      },
      "source": [
        "The design of PyTorch allows it to better utilize GPUs. Upon creation, a PyTorch tensor resides on the CPU. You can move a tensor across devices using `.to()`:"
      ]
    },
    {
      "cell_type": "code",
      "metadata": {
        "id": "D70zj24wK-1K",
        "colab_type": "code",
        "colab": {
          "base_uri": "https://localhost:8080/",
          "height": 34
        },
        "outputId": "4b4adefe-bfa3-4799-e4ef-69566cc68557"
      },
      "source": [
        "t = torch.randn(2)\n",
        "print(\"Initial device:\\t'{}'\".format(t.device))"
      ],
      "execution_count": 4,
      "outputs": [
        {
          "output_type": "stream",
          "text": [
            "Initial device:\t'cpu'\n"
          ],
          "name": "stdout"
        }
      ]
    },
    {
      "cell_type": "code",
      "metadata": {
        "id": "C-nm7dA2K-1N",
        "colab_type": "code",
        "colab": {
          "base_uri": "https://localhost:8080/",
          "height": 34
        },
        "outputId": "6487f5f2-782d-4501-f1a9-832dc1c60756"
      },
      "source": [
        "t = t.to('cuda:0')\n",
        "print(\"Move to gpu:\\t'{}'\".format(t.device))"
      ],
      "execution_count": 5,
      "outputs": [
        {
          "output_type": "stream",
          "text": [
            "Move to gpu:\t'cuda:0'\n"
          ],
          "name": "stdout"
        }
      ]
    },
    {
      "cell_type": "code",
      "metadata": {
        "id": "0mAqpakEK-1R",
        "colab_type": "code",
        "colab": {
          "base_uri": "https://localhost:8080/",
          "height": 51
        },
        "outputId": "d1600980-9358-4654-f7ee-c9bd12153cdf"
      },
      "source": [
        "t = t.to('cpu')\n",
        "print(\"Back to cpu:\\t'{}'\".format(t.device))\n",
        "# Why bother?\n",
        "t.numpy()"
      ],
      "execution_count": 7,
      "outputs": [
        {
          "output_type": "stream",
          "text": [
            "Back to cpu:\t'cpu'\n"
          ],
          "name": "stdout"
        },
        {
          "output_type": "execute_result",
          "data": {
            "text/plain": [
              "array([-1.2934166 ,  0.47523537], dtype=float32)"
            ]
          },
          "metadata": {
            "tags": []
          },
          "execution_count": 7
        }
      ]
    },
    {
      "cell_type": "markdown",
      "metadata": {
        "id": "YISj555DK-1U",
        "colab_type": "text"
      },
      "source": [
        "\n",
        "Training an MNIST Classifier\n",
        "=====\n",
        "## Custom Dataset, Model Checkpointing, and Fine-tune"
      ]
    },
    {
      "cell_type": "code",
      "metadata": {
        "id": "KD3a1GuvK-1V",
        "colab_type": "code",
        "colab": {}
      },
      "source": [
        "import torch.nn as nn            # containing various building blocks for your neural networks\n",
        "import torch.optim as optim      # implementing various optimization algorithms\n",
        "import torch.nn.functional as F  # a lower level (compared to torch.nn) interface\n",
        "\n",
        "# torchvision: popular datasets, model architectures, and common image transformations for computer vision.\n",
        "import torchvision\n",
        "# transforms: transformations useful for image processing\n",
        "import torchvision.transforms as transforms\n",
        "\n",
        "from torch.utils.data import Dataset, DataLoader\n",
        "\n",
        "import glob\n",
        "import os.path as osp\n",
        "import numpy as np\n",
        "from PIL import Image"
      ],
      "execution_count": 0,
      "outputs": []
    },
    {
      "cell_type": "markdown",
      "metadata": {
        "id": "hmHTZKSpK-1a",
        "colab_type": "text"
      },
      "source": [
        "## 1. Custom Dataset\n",
        "PyTorch has many built-in datasets such as MNIST and CIFAR. In this tutorial, we demonstrate how to write your own dataset by implementing a custom MNIST dataset class. Use [this link](https://github.com/myleott/mnist_png/blob/master/mnist_png.tar.gz?raw=true) to download the mnist png dataset.\n",
        "\n",
        "If you are on GCloud, you can run these commands:\n",
        "\n",
        "`wget https://github.com/myleott/mnist_png/blob/master/mnist_png.tar.gz?raw=true`\n",
        "\n",
        "`mv mnist_png.tar.gz?raw=true mnist_png.tar.gz`\n",
        "\n",
        "`tar -xzf mnist_png.tar.gz`"
      ]
    },
    {
      "cell_type": "code",
      "metadata": {
        "id": "-ry3rtGsQueh",
        "colab_type": "code",
        "colab": {
          "base_uri": "https://localhost:8080/",
          "height": 357
        },
        "outputId": "7d0f76e4-5ee0-4c94-ca38-71a262c8ef3f"
      },
      "source": [
        "!wget https://github.com/myleott/mnist_png/blob/master/mnist_png.tar.gz?raw=true\n",
        "\n",
        "!mv mnist_png.tar.gz?raw=true mnist_png.tar.gz\n",
        "\n",
        "!tar -xzf mnist_png.tar.gz"
      ],
      "execution_count": 11,
      "outputs": [
        {
          "output_type": "stream",
          "text": [
            "--2019-12-23 19:38:37--  https://github.com/myleott/mnist_png/blob/master/mnist_png.tar.gz?raw=true\n",
            "Resolving github.com (github.com)... 192.30.253.113\n",
            "Connecting to github.com (github.com)|192.30.253.113|:443... connected.\n",
            "HTTP request sent, awaiting response... 302 Found\n",
            "Location: https://github.com/myleott/mnist_png/raw/master/mnist_png.tar.gz [following]\n",
            "--2019-12-23 19:38:38--  https://github.com/myleott/mnist_png/raw/master/mnist_png.tar.gz\n",
            "Reusing existing connection to github.com:443.\n",
            "HTTP request sent, awaiting response... 302 Found\n",
            "Location: https://raw.githubusercontent.com/myleott/mnist_png/master/mnist_png.tar.gz [following]\n",
            "--2019-12-23 19:38:38--  https://raw.githubusercontent.com/myleott/mnist_png/master/mnist_png.tar.gz\n",
            "Resolving raw.githubusercontent.com (raw.githubusercontent.com)... 151.101.0.133, 151.101.64.133, 151.101.128.133, ...\n",
            "Connecting to raw.githubusercontent.com (raw.githubusercontent.com)|151.101.0.133|:443... connected.\n",
            "HTTP request sent, awaiting response... 200 OK\n",
            "Length: 15683414 (15M) [application/octet-stream]\n",
            "Saving to: ‘mnist_png.tar.gz?raw=true.1’\n",
            "\n",
            "mnist_png.tar.gz?ra 100%[===================>]  14.96M  42.4MB/s    in 0.4s    \n",
            "\n",
            "2019-12-23 19:38:38 (42.4 MB/s) - ‘mnist_png.tar.gz?raw=true.1’ saved [15683414/15683414]\n",
            "\n"
          ],
          "name": "stdout"
        }
      ]
    },
    {
      "cell_type": "code",
      "metadata": {
        "id": "_-jw8sHCNffB",
        "colab_type": "code",
        "colab": {}
      },
      "source": [
        "import pandas as pd\n",
        "\n",
        "train = pd.read_csv('/content/sample_data/mnist_train_small.csv', header=None)\n",
        "test = pd.read_csv('/content/sample_data/mnist_test.csv', header=None)\n",
        "X_train = train.iloc[:, 1:]\n",
        "y_train = train.iloc[:, 0]\n",
        "X_test = test.iloc[:, 1:]\n",
        "y_test = test.iloc[:, 0]"
      ],
      "execution_count": 0,
      "outputs": []
    },
    {
      "cell_type": "code",
      "metadata": {
        "id": "vzBvFXTGK-1b",
        "colab_type": "code",
        "colab": {}
      },
      "source": [
        "class MNIST(Dataset):\n",
        "    \"\"\"\n",
        "    A customized data loader for MNIST.\n",
        "    \"\"\"\n",
        "    def __init__(self,\n",
        "                 root,\n",
        "                 transform=None,\n",
        "                 preload=False):\n",
        "        \"\"\" Intialize the MNIST dataset\n",
        "        \n",
        "        Args:\n",
        "            - root: root directory of the dataset\n",
        "            - tranform: a custom tranform function\n",
        "            - preload: if preload the dataset into memory\n",
        "        \"\"\"\n",
        "        self.images = None\n",
        "        self.labels = None\n",
        "        self.filenames = []\n",
        "        self.root = root\n",
        "        self.transform = transform\n",
        "\n",
        "        # read filenames\n",
        "        for i in range(10):\n",
        "            filenames = glob.glob(osp.join(root, str(i), '*.png'))\n",
        "            for fn in filenames:\n",
        "                self.filenames.append((fn, i)) # (filename, label) pair\n",
        "                \n",
        "        # if preload dataset into memory\n",
        "        if preload:\n",
        "            self._preload()\n",
        "            \n",
        "        self.len = len(self.filenames)\n",
        "                              \n",
        "    def _preload(self):\n",
        "        \"\"\"\n",
        "        Preload dataset to memory\n",
        "        \"\"\"\n",
        "        self.labels = []\n",
        "        self.images = []\n",
        "        for image_fn, label in self.filenames:            \n",
        "            # load images\n",
        "            image = Image.open(image_fn)\n",
        "            self.images.append(image.copy())\n",
        "            # avoid too many opened files bug\n",
        "            image.close()\n",
        "            self.labels.append(label)\n",
        "\n",
        "    # probably the most important to customize.\n",
        "    def __getitem__(self, index):\n",
        "        \"\"\" Get a sample from the dataset\n",
        "        \"\"\"\n",
        "        if self.images is not None:\n",
        "            # If dataset is preloaded\n",
        "            image = self.images[index]\n",
        "            label = self.labels[index]\n",
        "        else:\n",
        "            # If on-demand data loading\n",
        "            image_fn, label = self.filenames[index]\n",
        "            image = Image.open(image_fn)\n",
        "            \n",
        "        # May use transform function to transform samples\n",
        "        # e.g., random crop, whitening\n",
        "        if self.transform is not None:\n",
        "            image = self.transform(image)\n",
        "        # return image and label\n",
        "        return image, label\n",
        "\n",
        "    def __len__(self):\n",
        "        \"\"\"\n",
        "        Total number of samples in the dataset\n",
        "        \"\"\"\n",
        "        return self.len"
      ],
      "execution_count": 0,
      "outputs": []
    },
    {
      "cell_type": "code",
      "metadata": {
        "id": "ZtCWR3vGK-1f",
        "colab_type": "code",
        "colab": {}
      },
      "source": [
        "# Create the MNIST dataset. \n",
        "# transforms.ToTensor() automatically converts PIL images to\n",
        "# torch tensors with range [0, 1]\n",
        "trainset = MNIST(\n",
        "    root='mnist_png/training',\n",
        "    preload=True, transform=transforms.ToTensor(),\n",
        ")\n",
        "\n",
        "# Use the torch dataloader to iterate through the dataset\n",
        "# We want the dataset to be shuffled during training.\n",
        "trainset_loader = DataLoader(trainset, batch_size=64, shuffle=True, num_workers=1)\n",
        "\n",
        "# Load the testset\n",
        "testset = MNIST(\n",
        "    root='mnist_png/testing',\n",
        "    preload=True, transform=transforms.ToTensor(),\n",
        ")\n",
        "# Use the torch dataloader to iterate through the dataset\n",
        "testset_loader = DataLoader(testset, batch_size=1000, shuffle=False, num_workers=1)"
      ],
      "execution_count": 0,
      "outputs": []
    },
    {
      "cell_type": "code",
      "metadata": {
        "id": "cl-yrqK8K-1i",
        "colab_type": "code",
        "colab": {
          "base_uri": "https://localhost:8080/",
          "height": 51
        },
        "outputId": "44d4577c-217b-48a0-f062-e4f32da0a60f"
      },
      "source": [
        "print(len(trainset)) # len = 60000\n",
        "print(len(testset))  # len = 10000"
      ],
      "execution_count": 15,
      "outputs": [
        {
          "output_type": "stream",
          "text": [
            "60000\n",
            "10000\n"
          ],
          "name": "stdout"
        }
      ]
    },
    {
      "cell_type": "markdown",
      "metadata": {
        "id": "JNGo3fmDK-1l",
        "colab_type": "text"
      },
      "source": [
        "### Visualize the dataset"
      ]
    },
    {
      "cell_type": "code",
      "metadata": {
        "id": "2tV3XEsRK-1m",
        "colab_type": "code",
        "colab": {
          "base_uri": "https://localhost:8080/",
          "height": 306
        },
        "outputId": "f5ac7d19-8e15-4884-b79b-fe8b73f88376"
      },
      "source": [
        "import matplotlib.pyplot as plt\n",
        "\n",
        "# functions to show an image\n",
        "def imshow(img):\n",
        "    npimg = img.numpy()\n",
        "    plt.imshow(np.transpose(npimg, (1, 2, 0)))\n",
        "\n",
        "# get some random training images\n",
        "dataiter = iter(trainset_loader)\n",
        "images, labels = dataiter.next()\n",
        "\n",
        "# show images\n",
        "imshow(torchvision.utils.make_grid(images))\n",
        "# print labels\n",
        "print(' '.join('%5s' % labels[j] for j in range(16)))"
      ],
      "execution_count": 16,
      "outputs": [
        {
          "output_type": "stream",
          "text": [
            "tensor(1) tensor(3) tensor(4) tensor(2) tensor(3) tensor(2) tensor(8) tensor(6) tensor(9) tensor(4) tensor(0) tensor(2) tensor(4) tensor(7) tensor(7) tensor(2)\n"
          ],
          "name": "stdout"
        },
        {
          "output_type": "display_data",
          "data": {
            "image/png": "[encoded data removed]",
            "text/plain": [
              "<Figure size 432x288 with 1 Axes>"
            ]
          },
          "metadata": {
            "tags": []
          }
        }
      ]
    },
    {
      "cell_type": "code",
      "metadata": {
        "id": "n8R7NFgJK-1p",
        "colab_type": "code",
        "colab": {
          "base_uri": "https://localhost:8080/",
          "height": 34
        },
        "outputId": "19061e7a-9e10-45e8-bd30-66e20c49b94a"
      },
      "source": [
        "# Use GPU if available, otherwise stick with cpu\n",
        "use_cuda = torch.cuda.is_available()\n",
        "torch.manual_seed(123)\n",
        "device = torch.device(\"cuda\" if use_cuda else \"cpu\")\n",
        "print(device)"
      ],
      "execution_count": 17,
      "outputs": [
        {
          "output_type": "stream",
          "text": [
            "cuda\n"
          ],
          "name": "stdout"
        }
      ]
    },
    {
      "cell_type": "markdown",
      "metadata": {
        "id": "mOzSzxCjK-1t",
        "colab_type": "text"
      },
      "source": [
        "### Define a Conv Net\n"
      ]
    },
    {
      "cell_type": "code",
      "metadata": {
        "id": "y7oqhJTpK-1u",
        "colab_type": "code",
        "colab": {}
      },
      "source": [
        "class Net(nn.Module):\n",
        "    def __init__(self):\n",
        "        super(Net, self).__init__()\n",
        "        \n",
        "        # Conv2d(in_channels, out_channels, kernel_size, stride=1, padding=0,\n",
        "        #        dilation=1, groups=1, bias=True, padding_mode='zeros')\n",
        "        self.conv1 = nn.Conv2d(1, 10, kernel_size=5)\n",
        "        self.conv2 = nn.Conv2d(10, 20, kernel_size=5)\n",
        "        self.conv2_drop = nn.Dropout2d()\n",
        "        \n",
        "        # Linear(in_features, out_features, bias=True)\n",
        "        self.fc1 = nn.Linear(320, 50)\n",
        "        self.fc2 = nn.Linear(50, 10)\n",
        "        \n",
        "        # MaxPool2d(kernel_size, stride=None, padding=0, dilation=1, return_indices=False, ceil_mode=False)\n",
        "        self.max_pool = nn.MaxPool2d(2)\n",
        "        # ReLU(inplace=False)\n",
        "        self.relu = nn.ReLU()\n",
        "\n",
        "    def forward(self, x):\n",
        "        # Note: the following two ways for max pooling / relu are equivalent.\n",
        "        # 1) with torch.nn.functional:\n",
        "        x = F.relu(F.max_pool2d(self.conv1(x), 2))\n",
        "        # 2) with torch.nn:\n",
        "        x = self.relu(self.max_pool(self.conv2_drop(self.conv2(x))))\n",
        "        x = x.view(-1, 320)\n",
        "        x = F.relu(self.fc1(x))\n",
        "        x = F.dropout(x, training=self.training)\n",
        "        x = self.fc2(x)\n",
        "        return F.log_softmax(x, dim=1)\n",
        "\n",
        "model = Net().to(device)\n",
        "optimizer = optim.SGD(model.parameters(), lr=0.001, momentum=0.9)"
      ],
      "execution_count": 0,
      "outputs": []
    },
    {
      "cell_type": "markdown",
      "metadata": {
        "id": "jhkcI6nzK-1x",
        "colab_type": "text"
      },
      "source": [
        "### Train the network"
      ]
    },
    {
      "cell_type": "code",
      "metadata": {
        "id": "A3AucDiiK-1y",
        "colab_type": "code",
        "colab": {}
      },
      "source": [
        "from time import time\n",
        "def train(epoch, log_interval=100):\n",
        "    model.train()  # set training mode\n",
        "    iteration = 0\n",
        "    for ep in range(epoch):\n",
        "        start = time()\n",
        "        for batch_idx, (data, target) in enumerate(trainset_loader):\n",
        "            # bring data to the computing device, e.g. GPU\n",
        "            data, target = data.to(device), target.to(device)\n",
        "\n",
        "            # forward pass\n",
        "            output = model(data)\n",
        "            # compute loss: negative log-likelihood\n",
        "            loss = F.nll_loss(output, target)\n",
        "            \n",
        "            # backward pass\n",
        "            # clear the gradients of all tensors being optimized.\n",
        "            optimizer.zero_grad()\n",
        "            # accumulate (i.e. add) the gradients from this forward pass\n",
        "            loss.backward()\n",
        "            # performs a single optimization step (parameter update)\n",
        "            optimizer.step()\n",
        "            \n",
        "            if iteration % log_interval == 0:\n",
        "                print('Train Epoch: {} [{}/{} ({:.0f}%)]\\tLoss: {:.6f}'.format(\n",
        "                    ep, batch_idx * len(data), len(trainset_loader.dataset),\n",
        "                    100. * batch_idx / len(trainset_loader), loss.item()))\n",
        "            iteration += 1\n",
        "            \n",
        "        end = time()\n",
        "        print('{:.2f}s'.format(end-start))\n",
        "        test() # evaluate at the end of epoch"
      ],
      "execution_count": 0,
      "outputs": []
    },
    {
      "cell_type": "code",
      "metadata": {
        "id": "XmmkXs2NK-11",
        "colab_type": "code",
        "colab": {}
      },
      "source": [
        "def test():\n",
        "    model.eval()  # set evaluation mode\n",
        "    test_loss = 0\n",
        "    correct = 0\n",
        "    with torch.no_grad():\n",
        "        for data, target in testset_loader:\n",
        "            data, target = data.to(device), target.to(device)\n",
        "            output = model(data)\n",
        "            test_loss += F.nll_loss(output, target, size_average=False).item() # sum up batch loss\n",
        "            pred = output.max(1, keepdim=True)[1] # get the index of the max log-probability\n",
        "            correct += pred.eq(target.view_as(pred)).sum().item()\n",
        "\n",
        "    test_loss /= len(testset_loader.dataset)\n",
        "    print('\\nTest set: Average loss: {:.4f}, Accuracy: {}/{} ({:.0f}%)\\n'.format(\n",
        "        test_loss, correct, len(testset_loader.dataset),\n",
        "        100. * correct / len(testset_loader.dataset)))"
      ],
      "execution_count": 0,
      "outputs": []
    },
    {
      "cell_type": "code",
      "metadata": {
        "id": "PpvNRbRvK-15",
        "colab_type": "code",
        "colab": {
          "base_uri": "https://localhost:8080/",
          "height": 1000
        },
        "outputId": "88b708ac-8635-4b1f-b308-c6f08bd7db65"
      },
      "source": [
        "train(5)  # train 5 epochs should get you to about 97% accuracy"
      ],
      "execution_count": 21,
      "outputs": [
        {
          "output_type": "stream",
          "text": [
            "Train Epoch: 0 [0/60000 (0%)]\tLoss: 2.299216\n",
            "Train Epoch: 0 [6400/60000 (11%)]\tLoss: 2.304715\n",
            "Train Epoch: 0 [12800/60000 (21%)]\tLoss: 2.289735\n",
            "Train Epoch: 0 [19200/60000 (32%)]\tLoss: 2.286897\n",
            "Train Epoch: 0 [25600/60000 (43%)]\tLoss: 2.201379\n",
            "Train Epoch: 0 [32000/60000 (53%)]\tLoss: 2.091537\n",
            "Train Epoch: 0 [38400/60000 (64%)]\tLoss: 1.974615\n",
            "Train Epoch: 0 [44800/60000 (75%)]\tLoss: 1.573760\n",
            "Train Epoch: 0 [51200/60000 (85%)]\tLoss: 1.423668\n",
            "Train Epoch: 0 [57600/60000 (96%)]\tLoss: 1.173814\n",
            "5.14s\n"
          ],
          "name": "stdout"
        },
        {
          "output_type": "stream",
          "text": [
            "/usr/local/lib/python3.6/dist-packages/torch/nn/_reduction.py:43: UserWarning: size_average and reduce args will be deprecated, please use reduction='sum' instead.\n",
            "  warnings.warn(warning.format(ret))\n"
          ],
          "name": "stderr"
        },
        {
          "output_type": "stream",
          "text": [
            "\n",
            "Test set: Average loss: 0.7274, Accuracy: 8222/10000 (82%)\n",
            "\n",
            "Train Epoch: 1 [3968/60000 (7%)]\tLoss: 0.570134\n",
            "Train Epoch: 1 [10368/60000 (17%)]\tLoss: 0.443340\n",
            "Train Epoch: 1 [16768/60000 (28%)]\tLoss: 0.372969\n",
            "Train Epoch: 1 [23168/60000 (39%)]\tLoss: 0.496040\n",
            "Train Epoch: 1 [29568/60000 (49%)]\tLoss: 0.559739\n",
            "Train Epoch: 1 [35968/60000 (60%)]\tLoss: 0.479518\n",
            "Train Epoch: 1 [42368/60000 (71%)]\tLoss: 0.208414\n",
            "Train Epoch: 1 [48768/60000 (81%)]\tLoss: 0.252150\n",
            "Train Epoch: 1 [55168/60000 (92%)]\tLoss: 0.366337\n",
            "5.06s\n",
            "\n",
            "Test set: Average loss: 0.2396, Accuracy: 9308/10000 (93%)\n",
            "\n",
            "Train Epoch: 2 [1536/60000 (3%)]\tLoss: 0.302169\n",
            "Train Epoch: 2 [7936/60000 (13%)]\tLoss: 0.279820\n",
            "Train Epoch: 2 [14336/60000 (24%)]\tLoss: 0.134438\n",
            "Train Epoch: 2 [20736/60000 (35%)]\tLoss: 0.257382\n",
            "Train Epoch: 2 [27136/60000 (45%)]\tLoss: 0.169842\n",
            "Train Epoch: 2 [33536/60000 (56%)]\tLoss: 0.203060\n",
            "Train Epoch: 2 [39936/60000 (67%)]\tLoss: 0.083057\n",
            "Train Epoch: 2 [46336/60000 (77%)]\tLoss: 0.272968\n",
            "Train Epoch: 2 [52736/60000 (88%)]\tLoss: 0.119956\n",
            "Train Epoch: 2 [59136/60000 (99%)]\tLoss: 0.240844\n",
            "5.05s\n",
            "\n",
            "Test set: Average loss: 0.1605, Accuracy: 9511/10000 (95%)\n",
            "\n",
            "Train Epoch: 3 [5504/60000 (9%)]\tLoss: 0.211728\n",
            "Train Epoch: 3 [11904/60000 (20%)]\tLoss: 0.147872\n",
            "Train Epoch: 3 [18304/60000 (30%)]\tLoss: 0.102411\n",
            "Train Epoch: 3 [24704/60000 (41%)]\tLoss: 0.204605\n",
            "Train Epoch: 3 [31104/60000 (52%)]\tLoss: 0.194818\n",
            "Train Epoch: 3 [37504/60000 (62%)]\tLoss: 0.123367\n",
            "Train Epoch: 3 [43904/60000 (73%)]\tLoss: 0.086352\n",
            "Train Epoch: 3 [50304/60000 (84%)]\tLoss: 0.233699\n",
            "Train Epoch: 3 [56704/60000 (94%)]\tLoss: 0.122626\n",
            "4.93s\n",
            "\n",
            "Test set: Average loss: 0.1240, Accuracy: 9634/10000 (96%)\n",
            "\n",
            "Train Epoch: 4 [3072/60000 (5%)]\tLoss: 0.197525\n",
            "Train Epoch: 4 [9472/60000 (16%)]\tLoss: 0.113195\n",
            "Train Epoch: 4 [15872/60000 (26%)]\tLoss: 0.193073\n",
            "Train Epoch: 4 [22272/60000 (37%)]\tLoss: 0.185475\n",
            "Train Epoch: 4 [28672/60000 (48%)]\tLoss: 0.058549\n",
            "Train Epoch: 4 [35072/60000 (58%)]\tLoss: 0.094949\n",
            "Train Epoch: 4 [41472/60000 (69%)]\tLoss: 0.105616\n",
            "Train Epoch: 4 [47872/60000 (80%)]\tLoss: 0.116074\n",
            "Train Epoch: 4 [54272/60000 (90%)]\tLoss: 0.063233\n",
            "4.84s\n",
            "\n",
            "Test set: Average loss: 0.1045, Accuracy: 9677/10000 (97%)\n",
            "\n"
          ],
          "name": "stdout"
        }
      ]
    },
    {
      "cell_type": "markdown",
      "metadata": {
        "id": "YcMVfcS3K-18",
        "colab_type": "text"
      },
      "source": [
        "## 2. Save the model (model checkpointing)\n",
        "\n",
        "Now we have trained a model! Obviously we do not want to retrain the model everytime we want to use it. Plus if you are training a super big model, you probably want to save checkpoint periodically so that you can always fall back to the last checkpoint in case something bad happened or you simply want to test models at different training iterations.\n",
        "\n",
        "Model checkpointing is fairly simple in PyTorch. First, we define a helper function that can save a model to the disk"
      ]
    },
    {
      "cell_type": "code",
      "metadata": {
        "id": "4wYY6a1sK-19",
        "colab_type": "code",
        "colab": {}
      },
      "source": [
        "def save_checkpoint(checkpoint_path, model, optimizer):\n",
        "    # state_dict: a Python dictionary object that:\n",
        "    # - for a model, maps each layer to its parameter tensor;\n",
        "    # - for an optimizer, contains info about the optimizer’s states and hyperparameters used.\n",
        "    state = {\n",
        "        'state_dict': model.state_dict(),\n",
        "        'optimizer' : optimizer.state_dict()}\n",
        "    torch.save(state, checkpoint_path)\n",
        "    print('model saved to %s' % checkpoint_path)\n",
        "    \n",
        "def load_checkpoint(checkpoint_path, model, optimizer):\n",
        "    state = torch.load(checkpoint_path)\n",
        "    model.load_state_dict(state['state_dict'])\n",
        "    optimizer.load_state_dict(state['optimizer'])\n",
        "    print('model loaded from %s' % checkpoint_path)"
      ],
      "execution_count": 0,
      "outputs": []
    },
    {
      "cell_type": "code",
      "metadata": {
        "id": "3k99DBZ5K-2I",
        "colab_type": "code",
        "colab": {
          "base_uri": "https://localhost:8080/",
          "height": 122
        },
        "outputId": "67c214e7-f3bc-4be8-9e17-d070cb7d6a18"
      },
      "source": [
        "# create a brand new model\n",
        "model = Net().to(device)\n",
        "optimizer = optim.SGD(model.parameters(), lr=0.001, momentum=0.9)\n",
        "# Testing -- you should get a pretty poor performance since the model hasn't learned anything yet.\n",
        "test()"
      ],
      "execution_count": 24,
      "outputs": [
        {
          "output_type": "stream",
          "text": [
            "/usr/local/lib/python3.6/dist-packages/torch/nn/_reduction.py:43: UserWarning: size_average and reduce args will be deprecated, please use reduction='sum' instead.\n",
            "  warnings.warn(warning.format(ret))\n"
          ],
          "name": "stderr"
        },
        {
          "output_type": "stream",
          "text": [
            "\n",
            "Test set: Average loss: 2.3039, Accuracy: 1009/10000 (10%)\n",
            "\n"
          ],
          "name": "stdout"
        }
      ]
    },
    {
      "cell_type": "markdown",
      "metadata": {
        "id": "mPPGWYvuK-2L",
        "colab_type": "text"
      },
      "source": [
        "### Define a training loop with model checkpointing"
      ]
    },
    {
      "cell_type": "code",
      "metadata": {
        "id": "4X0cDEYNK-2L",
        "colab_type": "code",
        "colab": {}
      },
      "source": [
        "def train_save(epoch, save_interval, log_interval=100):\n",
        "    model.train()  # set training mode\n",
        "    iteration = 0\n",
        "    for ep in range(epoch):\n",
        "        for batch_idx, (data, target) in enumerate(trainset_loader):\n",
        "            data, target = data.to(device), target.to(device)\n",
        "            optimizer.zero_grad()\n",
        "            output = model(data)\n",
        "            loss = F.nll_loss(output, target)\n",
        "            loss.backward()\n",
        "            optimizer.step()\n",
        "            if iteration % log_interval == 0:\n",
        "                print('Train Epoch: {} [{}/{} ({:.0f}%)]\\tLoss: {:.6f}'.format(\n",
        "                    ep, batch_idx * len(data), len(trainset_loader.dataset),\n",
        "                    100. * batch_idx / len(trainset_loader), loss.item()))\n",
        "            # different from before: saving model checkpoints\n",
        "            if iteration % save_interval == 0 and iteration > 0:\n",
        "                save_checkpoint('mnist-%i.pth' % iteration, model, optimizer)\n",
        "            iteration += 1\n",
        "        test()\n",
        "    \n",
        "    # save the final model\n",
        "    save_checkpoint('mnist-%i.pth' % iteration, model, optimizer)"
      ],
      "execution_count": 0,
      "outputs": []
    },
    {
      "cell_type": "code",
      "metadata": {
        "id": "Dih87Zg6K-2O",
        "colab_type": "code",
        "colab": {
          "base_uri": "https://localhost:8080/",
          "height": 1000
        },
        "outputId": "38efa575-d303-428c-ec26-28eb64d2e362"
      },
      "source": [
        "train_save(5, save_interval=500, log_interval=100)"
      ],
      "execution_count": 26,
      "outputs": [
        {
          "output_type": "stream",
          "text": [
            "Train Epoch: 0 [0/60000 (0%)]\tLoss: 2.306253\n",
            "Train Epoch: 0 [6400/60000 (11%)]\tLoss: 2.315621\n",
            "Train Epoch: 0 [12800/60000 (21%)]\tLoss: 2.293749\n",
            "Train Epoch: 0 [19200/60000 (32%)]\tLoss: 2.276094\n",
            "Train Epoch: 0 [25600/60000 (43%)]\tLoss: 2.264911\n",
            "Train Epoch: 0 [32000/60000 (53%)]\tLoss: 2.226051\n",
            "model saved to mnist-500.pth\n",
            "Train Epoch: 0 [38400/60000 (64%)]\tLoss: 2.058983\n",
            "Train Epoch: 0 [44800/60000 (75%)]\tLoss: 1.801121\n",
            "Train Epoch: 0 [51200/60000 (85%)]\tLoss: 1.403963\n",
            "Train Epoch: 0 [57600/60000 (96%)]\tLoss: 1.287049\n"
          ],
          "name": "stdout"
        },
        {
          "output_type": "stream",
          "text": [
            "/usr/local/lib/python3.6/dist-packages/torch/nn/_reduction.py:43: UserWarning: size_average and reduce args will be deprecated, please use reduction='sum' instead.\n",
            "  warnings.warn(warning.format(ret))\n"
          ],
          "name": "stderr"
        },
        {
          "output_type": "stream",
          "text": [
            "\n",
            "Test set: Average loss: 0.7498, Accuracy: 8192/10000 (82%)\n",
            "\n",
            "Train Epoch: 1 [3968/60000 (7%)]\tLoss: 0.556330\n",
            "model saved to mnist-1000.pth\n",
            "Train Epoch: 1 [10368/60000 (17%)]\tLoss: 0.414919\n",
            "Train Epoch: 1 [16768/60000 (28%)]\tLoss: 0.318227\n",
            "Train Epoch: 1 [23168/60000 (39%)]\tLoss: 0.389635\n",
            "Train Epoch: 1 [29568/60000 (49%)]\tLoss: 0.459343\n",
            "Train Epoch: 1 [35968/60000 (60%)]\tLoss: 0.491957\n",
            "model saved to mnist-1500.pth\n",
            "Train Epoch: 1 [42368/60000 (71%)]\tLoss: 0.258921\n",
            "Train Epoch: 1 [48768/60000 (81%)]\tLoss: 0.522965\n",
            "Train Epoch: 1 [55168/60000 (92%)]\tLoss: 0.300321\n",
            "\n",
            "Test set: Average loss: 0.2550, Accuracy: 9235/10000 (92%)\n",
            "\n",
            "Train Epoch: 2 [1536/60000 (3%)]\tLoss: 0.443890\n",
            "Train Epoch: 2 [7936/60000 (13%)]\tLoss: 0.270224\n",
            "model saved to mnist-2000.pth\n",
            "Train Epoch: 2 [14336/60000 (24%)]\tLoss: 0.231765\n",
            "Train Epoch: 2 [20736/60000 (35%)]\tLoss: 0.279299\n",
            "Train Epoch: 2 [27136/60000 (45%)]\tLoss: 0.184462\n",
            "Train Epoch: 2 [33536/60000 (56%)]\tLoss: 0.254572\n",
            "Train Epoch: 2 [39936/60000 (67%)]\tLoss: 0.230930\n",
            "model saved to mnist-2500.pth\n",
            "Train Epoch: 2 [46336/60000 (77%)]\tLoss: 0.548685\n",
            "Train Epoch: 2 [52736/60000 (88%)]\tLoss: 0.176110\n",
            "Train Epoch: 2 [59136/60000 (99%)]\tLoss: 0.125169\n",
            "\n",
            "Test set: Average loss: 0.1658, Accuracy: 9518/10000 (95%)\n",
            "\n",
            "Train Epoch: 3 [5504/60000 (9%)]\tLoss: 0.194705\n",
            "Train Epoch: 3 [11904/60000 (20%)]\tLoss: 0.221964\n",
            "model saved to mnist-3000.pth\n",
            "Train Epoch: 3 [18304/60000 (30%)]\tLoss: 0.202192\n",
            "Train Epoch: 3 [24704/60000 (41%)]\tLoss: 0.199679\n",
            "Train Epoch: 3 [31104/60000 (52%)]\tLoss: 0.083655\n",
            "Train Epoch: 3 [37504/60000 (62%)]\tLoss: 0.331586\n",
            "Train Epoch: 3 [43904/60000 (73%)]\tLoss: 0.090735\n",
            "model saved to mnist-3500.pth\n",
            "Train Epoch: 3 [50304/60000 (84%)]\tLoss: 0.143987\n",
            "Train Epoch: 3 [56704/60000 (94%)]\tLoss: 0.253645\n",
            "\n",
            "Test set: Average loss: 0.1288, Accuracy: 9632/10000 (96%)\n",
            "\n",
            "Train Epoch: 4 [3072/60000 (5%)]\tLoss: 0.086966\n",
            "Train Epoch: 4 [9472/60000 (16%)]\tLoss: 0.123195\n",
            "Train Epoch: 4 [15872/60000 (26%)]\tLoss: 0.218600\n",
            "model saved to mnist-4000.pth\n",
            "Train Epoch: 4 [22272/60000 (37%)]\tLoss: 0.089955\n",
            "Train Epoch: 4 [28672/60000 (48%)]\tLoss: 0.208089\n",
            "Train Epoch: 4 [35072/60000 (58%)]\tLoss: 0.055746\n",
            "Train Epoch: 4 [41472/60000 (69%)]\tLoss: 0.123766\n",
            "Train Epoch: 4 [47872/60000 (80%)]\tLoss: 0.054602\n",
            "model saved to mnist-4500.pth\n",
            "Train Epoch: 4 [54272/60000 (90%)]\tLoss: 0.246402\n",
            "\n",
            "Test set: Average loss: 0.1046, Accuracy: 9691/10000 (97%)\n",
            "\n",
            "model saved to mnist-4690.pth\n"
          ],
          "name": "stdout"
        }
      ]
    },
    {
      "cell_type": "code",
      "metadata": {
        "id": "cKmr-wAeK-2T",
        "colab_type": "code",
        "colab": {
          "base_uri": "https://localhost:8080/",
          "height": 139
        },
        "outputId": "38d3fe66-5536-48fc-a9e5-eddd9b493642"
      },
      "source": [
        "# create a new model\n",
        "model = Net().to(device)\n",
        "optimizer = optim.SGD(model.parameters(), lr=0.001, momentum=0.9)\n",
        "# load from the final checkpoint\n",
        "load_checkpoint('mnist-4690.pth', model, optimizer)\n",
        "# should give you the final model accuracy\n",
        "test()"
      ],
      "execution_count": 27,
      "outputs": [
        {
          "output_type": "stream",
          "text": [
            "model loaded from mnist-4690.pth\n"
          ],
          "name": "stdout"
        },
        {
          "output_type": "stream",
          "text": [
            "/usr/local/lib/python3.6/dist-packages/torch/nn/_reduction.py:43: UserWarning: size_average and reduce args will be deprecated, please use reduction='sum' instead.\n",
            "  warnings.warn(warning.format(ret))\n"
          ],
          "name": "stderr"
        },
        {
          "output_type": "stream",
          "text": [
            "\n",
            "Test set: Average loss: 0.1046, Accuracy: 9691/10000 (97%)\n",
            "\n"
          ],
          "name": "stdout"
        }
      ]
    },
    {
      "cell_type": "markdown",
      "metadata": {
        "id": "Hg3OfmwuK-2W",
        "colab_type": "text"
      },
      "source": [
        "## 3. Fine-tune a model\n",
        "\n",
        "Sometimes you want to fine-tune a pretrained model instead of training a model from scratch. For example, if you want to train a model on a new dataset that contains natural images. To achieve the best performance, you can start with a model that's fully trained on ImageNet and fine-tune the model.\n",
        "\n",
        "Finetuning a model in PyTorch is super easy! First, let's find out what we saved in a checkpoint"
      ]
    },
    {
      "cell_type": "code",
      "metadata": {
        "id": "h-xN2OCHK-2X",
        "colab_type": "code",
        "colab": {
          "base_uri": "https://localhost:8080/",
          "height": 34
        },
        "outputId": "a09c6178-b345-408f-d114-cb7d40330755"
      },
      "source": [
        "# What's in a state dict?\n",
        "print(model.state_dict().keys())"
      ],
      "execution_count": 28,
      "outputs": [
        {
          "output_type": "stream",
          "text": [
            "odict_keys(['conv1.weight', 'conv1.bias', 'conv2.weight', 'conv2.bias', 'fc1.weight', 'fc1.bias', 'fc2.weight', 'fc2.bias'])\n"
          ],
          "name": "stdout"
        }
      ]
    },
    {
      "cell_type": "markdown",
      "metadata": {
        "id": "SDs7Q70JK-2a",
        "colab_type": "text"
      },
      "source": [
        "### Finetune the fc layers\n",
        "\n",
        "Now say we want to load the conv layers from the checkpoint and train the fc layers. We can simply load a subset of the state dict with the selected names"
      ]
    },
    {
      "cell_type": "code",
      "metadata": {
        "id": "ahXkMjHBK-2b",
        "colab_type": "code",
        "colab": {
          "base_uri": "https://localhost:8080/",
          "height": 51
        },
        "outputId": "986d1395-03fa-4481-fbb8-1fc52d7610ac"
      },
      "source": [
        "checkpoint = torch.load('mnist-4690.pth')\n",
        "states_to_load = {}\n",
        "for name, param in checkpoint['state_dict'].items():\n",
        "    if name.startswith('conv'):\n",
        "        # only load the conv layers\n",
        "        states_to_load[name] = param\n",
        "print(\"Number of parameter variables to load:\", len(states_to_load))\n",
        "\n",
        "# Construct a new state_dict in which the layers we want\n",
        "# to import from the checkpoint is updated with the parameters\n",
        "# from the checkpoint\n",
        "model = Net().to(device)\n",
        "model_state = model.state_dict()\n",
        "print(\"Number of parameter variables in the model:\", len(model_state))\n",
        "model_state.update(states_to_load)\n",
        "        \n",
        "model.load_state_dict(model_state)\n",
        "optimizer = optim.SGD(model.parameters(), lr=0.001, momentum=0.9)"
      ],
      "execution_count": 29,
      "outputs": [
        {
          "output_type": "stream",
          "text": [
            "Number of parameter variables to load: 4\n",
            "Number of parameter variables in the model: 8\n"
          ],
          "name": "stdout"
        }
      ]
    },
    {
      "cell_type": "code",
      "metadata": {
        "id": "sCEHiiFrK-2e",
        "colab_type": "code",
        "colab": {
          "base_uri": "https://localhost:8080/",
          "height": 360
        },
        "outputId": "191b6308-575a-4448-80d2-aa687e30fc43"
      },
      "source": [
        "test() # without fine-tuning.\n",
        "\n",
        "train(1)  # training 1 epoch will get you to 93%!\n",
        "# As a comparison, training from scratch for 1 epoch gets about ~80% test accuracy."
      ],
      "execution_count": 30,
      "outputs": [
        {
          "output_type": "stream",
          "text": [
            "/usr/local/lib/python3.6/dist-packages/torch/nn/_reduction.py:43: UserWarning: size_average and reduce args will be deprecated, please use reduction='sum' instead.\n",
            "  warnings.warn(warning.format(ret))\n"
          ],
          "name": "stderr"
        },
        {
          "output_type": "stream",
          "text": [
            "\n",
            "Test set: Average loss: 2.5670, Accuracy: 1152/10000 (12%)\n",
            "\n",
            "Train Epoch: 0 [0/60000 (0%)]\tLoss: 3.202451\n",
            "Train Epoch: 0 [6400/60000 (11%)]\tLoss: 1.394661\n",
            "Train Epoch: 0 [12800/60000 (21%)]\tLoss: 1.092433\n",
            "Train Epoch: 0 [19200/60000 (32%)]\tLoss: 0.939656\n",
            "Train Epoch: 0 [25600/60000 (43%)]\tLoss: 0.810277\n",
            "Train Epoch: 0 [32000/60000 (53%)]\tLoss: 0.741539\n",
            "Train Epoch: 0 [38400/60000 (64%)]\tLoss: 0.861084\n",
            "Train Epoch: 0 [44800/60000 (75%)]\tLoss: 0.669308\n",
            "Train Epoch: 0 [51200/60000 (85%)]\tLoss: 0.569180\n",
            "Train Epoch: 0 [57600/60000 (96%)]\tLoss: 0.609054\n",
            "5.08s\n",
            "\n",
            "Test set: Average loss: 0.2621, Accuracy: 9264/10000 (93%)\n",
            "\n"
          ],
          "name": "stdout"
        }
      ]
    },
    {
      "cell_type": "markdown",
      "metadata": {
        "id": "giKZYVSuK-2g",
        "colab_type": "text"
      },
      "source": [
        "### Import pretrained weights in a different model\n",
        "\n",
        "We can even use the pretrained conv layers in a different model."
      ]
    },
    {
      "cell_type": "code",
      "metadata": {
        "id": "89DYfKbuK-2h",
        "colab_type": "code",
        "colab": {}
      },
      "source": [
        "class SmallNet(nn.Module):\n",
        "    def __init__(self):\n",
        "        super(SmallNet, self).__init__()\n",
        "        # same conv layers\n",
        "        self.conv1 = nn.Conv2d(1, 10, kernel_size=5)\n",
        "        self.conv2 = nn.Conv2d(10, 20, kernel_size=5)\n",
        "        self.conv2_drop = nn.Dropout2d()\n",
        "        # fewer FC layers\n",
        "        self.fc1 = nn.Linear(320, 10)\n",
        "\n",
        "    def forward(self, x):\n",
        "        x = F.relu(F.max_pool2d(self.conv1(x), 2))\n",
        "        x = F.relu(F.max_pool2d(self.conv2_drop(self.conv2(x)), 2))\n",
        "        x = x.view(-1, 320)\n",
        "        x = self.fc1(x)\n",
        "        return F.log_softmax(x, dim=1)\n",
        "\n",
        "model = SmallNet().to(device)\n",
        "optimizer = optim.SGD(model.parameters(), lr=0.001, momentum=0.9)"
      ],
      "execution_count": 0,
      "outputs": []
    },
    {
      "cell_type": "code",
      "metadata": {
        "id": "haHHjGQCK-2m",
        "colab_type": "code",
        "colab": {
          "base_uri": "https://localhost:8080/",
          "height": 139
        },
        "outputId": "ae0fb8ac-94f6-449f-b8d4-2ddc1a80d243"
      },
      "source": [
        "checkpoint = torch.load('mnist-4690.pth')\n",
        "states_to_load = {}\n",
        "for name, param in checkpoint['state_dict'].items():\n",
        "    if name.startswith('conv'):\n",
        "        states_to_load[name] = param\n",
        "\n",
        "# Construct a new state dict in which the layers we want\n",
        "# to import from the checkpoint is update with the parameters\n",
        "# from the checkpoint\n",
        "model_state = model.state_dict()\n",
        "model_state.update(states_to_load)\n",
        "        \n",
        "test()\n",
        "\n",
        "model.load_state_dict(model_state)"
      ],
      "execution_count": 32,
      "outputs": [
        {
          "output_type": "stream",
          "text": [
            "/usr/local/lib/python3.6/dist-packages/torch/nn/_reduction.py:43: UserWarning: size_average and reduce args will be deprecated, please use reduction='sum' instead.\n",
            "  warnings.warn(warning.format(ret))\n"
          ],
          "name": "stderr"
        },
        {
          "output_type": "stream",
          "text": [
            "\n",
            "Test set: Average loss: 2.3089, Accuracy: 1006/10000 (10%)\n",
            "\n"
          ],
          "name": "stdout"
        },
        {
          "output_type": "execute_result",
          "data": {
            "text/plain": [
              "<All keys matched successfully>"
            ]
          },
          "metadata": {
            "tags": []
          },
          "execution_count": 32
        }
      ]
    },
    {
      "cell_type": "code",
      "metadata": {
        "id": "TDHENh_iK-2q",
        "colab_type": "code",
        "colab": {
          "base_uri": "https://localhost:8080/",
          "height": 309
        },
        "outputId": "7781b59d-867a-401e-8f4d-1c9f8e5e5db3"
      },
      "source": [
        "train(1)  # training 1 epoch will get you to ~93%!"
      ],
      "execution_count": 33,
      "outputs": [
        {
          "output_type": "stream",
          "text": [
            "Train Epoch: 0 [0/60000 (0%)]\tLoss: 5.974923\n",
            "Train Epoch: 0 [6400/60000 (11%)]\tLoss: 0.424883\n",
            "Train Epoch: 0 [12800/60000 (21%)]\tLoss: 0.478684\n",
            "Train Epoch: 0 [19200/60000 (32%)]\tLoss: 0.379591\n",
            "Train Epoch: 0 [25600/60000 (43%)]\tLoss: 0.442791\n",
            "Train Epoch: 0 [32000/60000 (53%)]\tLoss: 0.476377\n",
            "Train Epoch: 0 [38400/60000 (64%)]\tLoss: 0.249908\n",
            "Train Epoch: 0 [44800/60000 (75%)]\tLoss: 0.284382\n",
            "Train Epoch: 0 [51200/60000 (85%)]\tLoss: 0.257094\n",
            "Train Epoch: 0 [57600/60000 (96%)]\tLoss: 0.304204\n",
            "4.90s\n"
          ],
          "name": "stdout"
        },
        {
          "output_type": "stream",
          "text": [
            "/usr/local/lib/python3.6/dist-packages/torch/nn/_reduction.py:43: UserWarning: size_average and reduce args will be deprecated, please use reduction='sum' instead.\n",
            "  warnings.warn(warning.format(ret))\n"
          ],
          "name": "stderr"
        },
        {
          "output_type": "stream",
          "text": [
            "\n",
            "Test set: Average loss: 0.1644, Accuracy: 9520/10000 (95%)\n",
            "\n"
          ],
          "name": "stdout"
        }
      ]
    },
    {
      "cell_type": "markdown",
      "metadata": {
        "id": "19PjMPI3K-2t",
        "colab_type": "text"
      },
      "source": [
        "### Clean up your code with nn.Sequential"
      ]
    },
    {
      "cell_type": "code",
      "metadata": {
        "id": "NG36nsSBK-2u",
        "colab_type": "code",
        "colab": {}
      },
      "source": [
        "class NetSeq(nn.Module):\n",
        "    def __init__(self):\n",
        "        super(NetSeq, self).__init__()\n",
        "\n",
        "        # conv layers: feature extractor\n",
        "        self.conv_layers = nn.Sequential(\n",
        "            nn.Conv2d(1, 10, kernel_size=5),\n",
        "            nn.MaxPool2d(2),\n",
        "            nn.ReLU(),\n",
        "            nn.Conv2d(10, 20, kernel_size=5),\n",
        "            nn.Dropout2d(),\n",
        "            nn.MaxPool2d(2),\n",
        "            nn.ReLU()\n",
        "        )\n",
        "        \n",
        "        # fc layers: classifier\n",
        "        self.fc_layers = nn.Sequential(\n",
        "            nn.Linear(320, 50),\n",
        "            nn.ReLU(),\n",
        "            nn.Dropout(),\n",
        "            nn.Linear(50, 10),\n",
        "        )\n",
        "\n",
        "    def forward(self, x):\n",
        "        x = self.conv_layers(x)\n",
        "        x = x.view(-1, 320)\n",
        "        x = self.fc_layers(x)\n",
        "        return F.log_softmax(x, dim=1)\n",
        "\n",
        "model = NetSeq().to(device)\n",
        "optimizer = optim.SGD(model.parameters(), lr=0.001, momentum=0.9)"
      ],
      "execution_count": 0,
      "outputs": []
    },
    {
      "cell_type": "code",
      "metadata": {
        "id": "aqkM_xE0K-2x",
        "colab_type": "code",
        "colab": {
          "base_uri": "https://localhost:8080/",
          "height": 1000
        },
        "outputId": "d7120fc8-2beb-428c-e755-be20d7f36275"
      },
      "source": [
        "train(5)"
      ],
      "execution_count": 35,
      "outputs": [
        {
          "output_type": "stream",
          "text": [
            "Train Epoch: 0 [0/60000 (0%)]\tLoss: 2.293692\n",
            "Train Epoch: 0 [6400/60000 (11%)]\tLoss: 2.289288\n",
            "Train Epoch: 0 [12800/60000 (21%)]\tLoss: 2.275316\n",
            "Train Epoch: 0 [19200/60000 (32%)]\tLoss: 2.267708\n",
            "Train Epoch: 0 [25600/60000 (43%)]\tLoss: 2.215289\n",
            "Train Epoch: 0 [32000/60000 (53%)]\tLoss: 2.078153\n",
            "Train Epoch: 0 [38400/60000 (64%)]\tLoss: 1.910025\n",
            "Train Epoch: 0 [44800/60000 (75%)]\tLoss: 1.761988\n",
            "Train Epoch: 0 [51200/60000 (85%)]\tLoss: 1.344330\n",
            "Train Epoch: 0 [57600/60000 (96%)]\tLoss: 1.152869\n",
            "5.11s\n"
          ],
          "name": "stdout"
        },
        {
          "output_type": "stream",
          "text": [
            "/usr/local/lib/python3.6/dist-packages/torch/nn/_reduction.py:43: UserWarning: size_average and reduce args will be deprecated, please use reduction='sum' instead.\n",
            "  warnings.warn(warning.format(ret))\n"
          ],
          "name": "stderr"
        },
        {
          "output_type": "stream",
          "text": [
            "\n",
            "Test set: Average loss: 0.7145, Accuracy: 8221/10000 (82%)\n",
            "\n",
            "Train Epoch: 1 [3968/60000 (7%)]\tLoss: 0.428098\n",
            "Train Epoch: 1 [10368/60000 (17%)]\tLoss: 0.641680\n",
            "Train Epoch: 1 [16768/60000 (28%)]\tLoss: 0.293134\n",
            "Train Epoch: 1 [23168/60000 (39%)]\tLoss: 0.196185\n",
            "Train Epoch: 1 [29568/60000 (49%)]\tLoss: 0.475990\n",
            "Train Epoch: 1 [35968/60000 (60%)]\tLoss: 0.410394\n",
            "Train Epoch: 1 [42368/60000 (71%)]\tLoss: 0.254501\n",
            "Train Epoch: 1 [48768/60000 (81%)]\tLoss: 0.233888\n",
            "Train Epoch: 1 [55168/60000 (92%)]\tLoss: 0.324285\n",
            "4.95s\n",
            "\n",
            "Test set: Average loss: 0.2357, Accuracy: 9317/10000 (93%)\n",
            "\n",
            "Train Epoch: 2 [1536/60000 (3%)]\tLoss: 0.311325\n",
            "Train Epoch: 2 [7936/60000 (13%)]\tLoss: 0.133888\n",
            "Train Epoch: 2 [14336/60000 (24%)]\tLoss: 0.254777\n",
            "Train Epoch: 2 [20736/60000 (35%)]\tLoss: 0.183360\n",
            "Train Epoch: 2 [27136/60000 (45%)]\tLoss: 0.351842\n",
            "Train Epoch: 2 [33536/60000 (56%)]\tLoss: 0.138520\n",
            "Train Epoch: 2 [39936/60000 (67%)]\tLoss: 0.094389\n",
            "Train Epoch: 2 [46336/60000 (77%)]\tLoss: 0.149868\n",
            "Train Epoch: 2 [52736/60000 (88%)]\tLoss: 0.109228\n",
            "Train Epoch: 2 [59136/60000 (99%)]\tLoss: 0.127618\n",
            "4.94s\n",
            "\n",
            "Test set: Average loss: 0.1595, Accuracy: 9528/10000 (95%)\n",
            "\n",
            "Train Epoch: 3 [5504/60000 (9%)]\tLoss: 0.268095\n",
            "Train Epoch: 3 [11904/60000 (20%)]\tLoss: 0.163257\n",
            "Train Epoch: 3 [18304/60000 (30%)]\tLoss: 0.322634\n",
            "Train Epoch: 3 [24704/60000 (41%)]\tLoss: 0.153342\n",
            "Train Epoch: 3 [31104/60000 (52%)]\tLoss: 0.058012\n",
            "Train Epoch: 3 [37504/60000 (62%)]\tLoss: 0.179789\n",
            "Train Epoch: 3 [43904/60000 (73%)]\tLoss: 0.300190\n",
            "Train Epoch: 3 [50304/60000 (84%)]\tLoss: 0.096799\n",
            "Train Epoch: 3 [56704/60000 (94%)]\tLoss: 0.138383\n",
            "4.95s\n",
            "\n",
            "Test set: Average loss: 0.1205, Accuracy: 9643/10000 (96%)\n",
            "\n",
            "Train Epoch: 4 [3072/60000 (5%)]\tLoss: 0.178674\n",
            "Train Epoch: 4 [9472/60000 (16%)]\tLoss: 0.080378\n",
            "Train Epoch: 4 [15872/60000 (26%)]\tLoss: 0.217052\n",
            "Train Epoch: 4 [22272/60000 (37%)]\tLoss: 0.083606\n",
            "Train Epoch: 4 [28672/60000 (48%)]\tLoss: 0.156888\n",
            "Train Epoch: 4 [35072/60000 (58%)]\tLoss: 0.137777\n",
            "Train Epoch: 4 [41472/60000 (69%)]\tLoss: 0.119201\n",
            "Train Epoch: 4 [47872/60000 (80%)]\tLoss: 0.091286\n",
            "Train Epoch: 4 [54272/60000 (90%)]\tLoss: 0.063295\n",
            "5.12s\n",
            "\n",
            "Test set: Average loss: 0.0959, Accuracy: 9704/10000 (97%)\n",
            "\n"
          ],
          "name": "stdout"
        }
      ]
    }
  ]
}