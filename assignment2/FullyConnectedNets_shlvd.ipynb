{
  "nbformat": 4,
  "nbformat_minor": 0,
  "metadata": {
    "colab": {
      "name": "FullyConnectedNets_shlvd.ipynb",
      "provenance": [],
      "collapsed_sections": []
    },
    "kernelspec": {
      "name": "python3",
      "display_name": "Python 3"
    }
  },
  "cells": [
    {
      "cell_type": "code",
      "metadata": {
        "id": "73QvOCu9tdPY",
        "colab_type": "code",
        "outputId": "7e6de849-13f6-485e-e8f6-fc0dd4e071da",
        "colab": {
          "base_uri": "https://localhost:8080/",
          "height": 34
        }
      },
      "source": [
        "cd /content"
      ],
      "execution_count": 1,
      "outputs": [
        {
          "output_type": "stream",
          "text": [
            "/content\n"
          ],
          "name": "stdout"
        }
      ]
    },
    {
      "cell_type": "code",
      "metadata": {
        "id": "oYIumxN0tq0j",
        "colab_type": "code",
        "outputId": "996e945d-0088-43d7-cb24-83c05f6131ed",
        "colab": {
          "base_uri": "https://localhost:8080/",
          "height": 34
        }
      },
      "source": [
        "!ls"
      ],
      "execution_count": 2,
      "outputs": [
        {
          "output_type": "stream",
          "text": [
            "sample_data\n"
          ],
          "name": "stdout"
        }
      ]
    },
    {
      "cell_type": "code",
      "metadata": {
        "id": "ziQwcmAAtqwr",
        "colab_type": "code",
        "outputId": "90066307-f0dc-47bb-a2bb-07646e3f64db",
        "colab": {
          "base_uri": "https://localhost:8080/",
          "height": 136
        }
      },
      "source": [
        "!git clone https://github.com/shlvd/cs231n_stanford_2019.git"
      ],
      "execution_count": 3,
      "outputs": [
        {
          "output_type": "stream",
          "text": [
            "Cloning into 'cs231n_stanford_2019'...\n",
            "remote: Enumerating objects: 6, done.\u001b[K\n",
            "remote: Counting objects: 100% (6/6), done.\u001b[K\n",
            "remote: Compressing objects: 100% (5/5), done.\u001b[K\n",
            "remote: Total 251 (delta 2), reused 1 (delta 1), pack-reused 245\u001b[K\n",
            "Receiving objects: 100% (251/251), 2.20 MiB | 5.16 MiB/s, done.\n",
            "Resolving deltas: 100% (88/88), done.\n"
          ],
          "name": "stdout"
        }
      ]
    },
    {
      "cell_type": "code",
      "metadata": {
        "id": "cZ3R2tIEtqsJ",
        "colab_type": "code",
        "outputId": "89d067e8-a9e8-44ee-d5c1-a2a099e95860",
        "colab": {
          "base_uri": "https://localhost:8080/",
          "height": 34
        }
      },
      "source": [
        "%cd cs231n_stanford_2019/assignment2"
      ],
      "execution_count": 4,
      "outputs": [
        {
          "output_type": "stream",
          "text": [
            "/content/cs231n_stanford_2019/assignment2\n"
          ],
          "name": "stdout"
        }
      ]
    },
    {
      "cell_type": "code",
      "metadata": {
        "id": "U6owdWjRtqoN",
        "colab_type": "code",
        "outputId": "a81a1e0c-1916-4e1e-80ab-c89b0847030f",
        "colab": {
          "base_uri": "https://localhost:8080/",
          "height": 51
        }
      },
      "source": [
        "%cd cs231n/datasets/\n",
        "!ls"
      ],
      "execution_count": 5,
      "outputs": [
        {
          "output_type": "stream",
          "text": [
            "/content/cs231n_stanford_2019/assignment2/cs231n/datasets\n",
            "get_datasets.sh\n"
          ],
          "name": "stdout"
        }
      ]
    },
    {
      "cell_type": "code",
      "metadata": {
        "id": "YF8Wc_Aj1ZvY",
        "colab_type": "code",
        "outputId": "12a5b871-8649-48be-cc11-5ee93f1562e1",
        "colab": {
          "base_uri": "https://localhost:8080/",
          "height": 357
        }
      },
      "source": [
        "!wget http://www.cs.toronto.edu/~kriz/cifar-10-python.tar.gz\n",
        "!tar -xzvf cifar-10-python.tar.gz\n",
        "!rm cifar-10-python.tar.gz "
      ],
      "execution_count": 6,
      "outputs": [
        {
          "output_type": "stream",
          "text": [
            "--2019-12-27 14:25:55--  http://www.cs.toronto.edu/~kriz/cifar-10-python.tar.gz\n",
            "Resolving www.cs.toronto.edu (www.cs.toronto.edu)... 128.100.3.30\n",
            "Connecting to www.cs.toronto.edu (www.cs.toronto.edu)|128.100.3.30|:80... connected.\n",
            "HTTP request sent, awaiting response... 200 OK\n",
            "Length: 170498071 (163M) [application/x-gzip]\n",
            "Saving to: ‘cifar-10-python.tar.gz’\n",
            "\n",
            "cifar-10-python.tar 100%[===================>] 162.60M  45.6MB/s    in 4.0s    \n",
            "\n",
            "2019-12-27 14:25:59 (41.2 MB/s) - ‘cifar-10-python.tar.gz’ saved [170498071/170498071]\n",
            "\n",
            "cifar-10-batches-py/\n",
            "cifar-10-batches-py/data_batch_4\n",
            "cifar-10-batches-py/readme.html\n",
            "cifar-10-batches-py/test_batch\n",
            "cifar-10-batches-py/data_batch_3\n",
            "cifar-10-batches-py/batches.meta\n",
            "cifar-10-batches-py/data_batch_2\n",
            "cifar-10-batches-py/data_batch_5\n",
            "cifar-10-batches-py/data_batch_1\n"
          ],
          "name": "stdout"
        }
      ]
    },
    {
      "cell_type": "code",
      "metadata": {
        "id": "MNOuz_lwtqXo",
        "colab_type": "code",
        "outputId": "12f6dcb9-bf9f-4a36-942b-bee7ff639949",
        "colab": {
          "base_uri": "https://localhost:8080/",
          "height": 85
        }
      },
      "source": [
        "%cd cs231n/\n",
        "!ls"
      ],
      "execution_count": 12,
      "outputs": [
        {
          "output_type": "stream",
          "text": [
            "/content/cs231n_stanford_2019/assignment2/cs231n\n",
            "classifiers    fast_layers.py\t  im2col.py    layer_utils.py  setup.py\n",
            "datasets       gradient_check.py  __init__.py  optim.py        solver.py\n",
            "data_utils.py  im2col_cython.pyx  layers.py    __pycache__     vis_utils.py\n"
          ],
          "name": "stdout"
        }
      ]
    },
    {
      "cell_type": "code",
      "metadata": {
        "id": "bIdSCxgJtqT5",
        "colab_type": "code",
        "outputId": "5e134d35-d9ee-4aec-fa34-89eb31b3f2ca",
        "colab": {
          "base_uri": "https://localhost:8080/",
          "height": 51
        }
      },
      "source": [
        "from __future__ import print_function\n",
        "import time\n",
        "import numpy as np\n",
        "import matplotlib.pyplot as plt\n",
        "from cs231n.classifiers.fc_net import *\n",
        "from cs231n.data_utils import get_CIFAR10_data\n",
        "from cs231n.gradient_check import eval_numerical_gradient, eval_numerical_gradient_array\n",
        "from cs231n.solver import Solver\n",
        "\n",
        "%matplotlib inline\n",
        "plt.rcParams['figure.figsize'] = (10.0, 8.0) # set default size of plots\n",
        "plt.rcParams['image.interpolation'] = 'nearest'\n",
        "plt.rcParams['image.cmap'] = 'gray'\n",
        "\n",
        "# for auto-reloading external modules\n",
        "# see http://stackoverflow.com/questions/1907993/autoreload-of-modules-in-ipython\n",
        "%load_ext autoreload\n",
        "%autoreload 2\n",
        "\n",
        "def rel_error(x, y):\n",
        "  \"\"\" returns relative error \"\"\"\n",
        "  return np.max(np.abs(x - y) / (np.maximum(1e-8, np.abs(x) + np.abs(y))))"
      ],
      "execution_count": 13,
      "outputs": [
        {
          "output_type": "stream",
          "text": [
            "The autoreload extension is already loaded. To reload it, use:\n",
            "  %reload_ext autoreload\n"
          ],
          "name": "stdout"
        }
      ]
    },
    {
      "cell_type": "code",
      "metadata": {
        "id": "W4qfUEwD3Kgq",
        "colab_type": "code",
        "outputId": "75f19ee3-4b32-4ddd-f952-defe93f8aacc",
        "colab": {
          "base_uri": "https://localhost:8080/",
          "height": 102
        }
      },
      "source": [
        "%cd ../\n",
        "!ls"
      ],
      "execution_count": 15,
      "outputs": [
        {
          "output_type": "stream",
          "text": [
            "/content/cs231n_stanford_2019/assignment2\n",
            "BatchNormalization.ipynb     Dropout.ipynb\t       PyTorch.ipynb\n",
            "collectSubmission.sh\t     frameworkpython\t       requirements.txt\n",
            "ConvolutionalNetworks.ipynb  FullyConnectedNets.ipynb  start_ipython_osx.sh\n",
            "cs231n\t\t\t     notebook_images\t       TensorFlow.ipynb\n"
          ],
          "name": "stdout"
        }
      ]
    },
    {
      "cell_type": "code",
      "metadata": {
        "id": "OVjAVT5-tqQC",
        "colab_type": "code",
        "outputId": "c65d6dc4-3186-4991-94b4-704e10c414bb",
        "colab": {
          "base_uri": "https://localhost:8080/",
          "height": 119
        }
      },
      "source": [
        "# Load the (preprocessed) CIFAR10 data.\n",
        "\n",
        "data = get_CIFAR10_data()\n",
        "for k, v in list(data.items()):\n",
        "  print(('%s: ' % k, v.shape))"
      ],
      "execution_count": 62,
      "outputs": [
        {
          "output_type": "stream",
          "text": [
            "('X_train: ', (49000, 3, 32, 32))\n",
            "('y_train: ', (49000,))\n",
            "('X_val: ', (1000, 3, 32, 32))\n",
            "('y_val: ', (1000,))\n",
            "('X_test: ', (1000, 3, 32, 32))\n",
            "('y_test: ', (1000,))\n"
          ],
          "name": "stdout"
        }
      ]
    },
    {
      "cell_type": "code",
      "metadata": {
        "id": "Ep48Xwz2tqLi",
        "colab_type": "code",
        "outputId": "e1b87670-6daf-45d0-a390-d0b750f63b35",
        "colab": {
          "base_uri": "https://localhost:8080/",
          "height": 51
        }
      },
      "source": [
        "num_inputs = 2\n",
        "input_shape = (4, 5, 6)\n",
        "output_dim = 3\n",
        "\n",
        "input_size = num_inputs * np.prod(input_shape)\n",
        "weight_size = output_dim * np.prod(input_shape)\n",
        "\n",
        "x = np.linspace(-0.1, 0.5, num=input_size).reshape(num_inputs, *input_shape)\n",
        "w = np.linspace(-0.2, 0.3, num=weight_size).reshape(np.prod(input_shape), output_dim)\n",
        "b = np.linspace(-0.3, 0.1, num=output_dim)\n",
        "\n",
        "out, _ = affine_forward(x, w, b)\n",
        "correct_out = np.array([[ 1.49834967,  1.70660132,  1.91485297],\n",
        "                        [ 3.25553199,  3.5141327,   3.77273342]])\n",
        "\n",
        "# Compare your output with ours. The error should be around e-9 or less.\n",
        "print('Testing affine_forward function:')\n",
        "print('difference: ', rel_error(out, correct_out))"
      ],
      "execution_count": 63,
      "outputs": [
        {
          "output_type": "stream",
          "text": [
            "Testing affine_forward function:\n",
            "difference:  9.769849468192957e-10\n"
          ],
          "name": "stdout"
        }
      ]
    },
    {
      "cell_type": "code",
      "metadata": {
        "id": "CaA3j5h1tqAg",
        "colab_type": "code",
        "outputId": "5e7e9ba5-590f-4c6d-c4b1-22b170c932c9",
        "colab": {
          "base_uri": "https://localhost:8080/",
          "height": 85
        }
      },
      "source": [
        "np.random.seed(231)\n",
        "x = np.random.randn(10, 2, 3)\n",
        "w = np.random.randn(6, 5)\n",
        "b = np.random.randn(5)\n",
        "dout = np.random.randn(10, 5)\n",
        "\n",
        "dx_num = eval_numerical_gradient_array(lambda x: affine_forward(x, w, b)[0], x, dout)\n",
        "dw_num = eval_numerical_gradient_array(lambda w: affine_forward(x, w, b)[0], w, dout)\n",
        "db_num = eval_numerical_gradient_array(lambda b: affine_forward(x, w, b)[0], b, dout)\n",
        "\n",
        "_, cache = affine_forward(x, w, b)\n",
        "dx, dw, db = affine_backward(dout, cache)\n",
        "\n",
        "# The error should be around e-10 or less\n",
        "print('Testing affine_backward function:')\n",
        "print('dx error: ', rel_error(dx_num, dx))\n",
        "print('dw error: ', rel_error(dw_num, dw))\n",
        "print('db error: ', rel_error(db_num, db))"
      ],
      "execution_count": 64,
      "outputs": [
        {
          "output_type": "stream",
          "text": [
            "Testing affine_backward function:\n",
            "dx error:  5.399100368651805e-11\n",
            "dw error:  9.904211865398145e-11\n",
            "db error:  2.4122867568119087e-11\n"
          ],
          "name": "stdout"
        }
      ]
    },
    {
      "cell_type": "code",
      "metadata": {
        "id": "sS1qhCcMtp8x",
        "colab_type": "code",
        "outputId": "6fd2aede-7e19-4f0d-9a2c-2c5b5b2cfec6",
        "colab": {
          "base_uri": "https://localhost:8080/",
          "height": 51
        }
      },
      "source": [
        "x = np.linspace(-0.5, 0.5, num=12).reshape(3, 4)\n",
        "\n",
        "out, _ = relu_forward(x)\n",
        "correct_out = np.array([[ 0.,          0.,          0.,          0.,        ],\n",
        "                        [ 0.,          0.,          0.04545455,  0.13636364,],\n",
        "                        [ 0.22727273,  0.31818182,  0.40909091,  0.5,       ]])\n",
        "\n",
        "# Compare your output with ours. The error should be on the order of e-8\n",
        "print('Testing relu_forward function:')\n",
        "print('difference: ', rel_error(out, correct_out))"
      ],
      "execution_count": 65,
      "outputs": [
        {
          "output_type": "stream",
          "text": [
            "Testing relu_forward function:\n",
            "difference:  4.999999798022158e-08\n"
          ],
          "name": "stdout"
        }
      ]
    },
    {
      "cell_type": "code",
      "metadata": {
        "id": "_hOYLT7Dtp5E",
        "colab_type": "code",
        "outputId": "04cdcb52-f10e-4d0e-a266-b8958d20406e",
        "colab": {
          "base_uri": "https://localhost:8080/",
          "height": 51
        }
      },
      "source": [
        "np.random.seed(231)\n",
        "x = np.random.randn(10, 10)\n",
        "dout = np.random.randn(*x.shape)\n",
        "\n",
        "dx_num = eval_numerical_gradient_array(lambda x: relu_forward(x)[0], x, dout)\n",
        "\n",
        "_, cache = relu_forward(x)\n",
        "dx = relu_backward(dout, cache)\n",
        "\n",
        "# The error should be on the order of e-12\n",
        "print('Testing relu_backward function:')\n",
        "print('dx error: ', rel_error(dx_num, dx))"
      ],
      "execution_count": 66,
      "outputs": [
        {
          "output_type": "stream",
          "text": [
            "Testing relu_backward function:\n",
            "dx error:  3.2756349136310288e-12\n"
          ],
          "name": "stdout"
        }
      ]
    },
    {
      "cell_type": "code",
      "metadata": {
        "id": "Dpmq969Ctp0c",
        "colab_type": "code",
        "outputId": "362a54f9-4ff6-4456-cff1-9b3c670f040e",
        "colab": {
          "base_uri": "https://localhost:8080/",
          "height": 85
        }
      },
      "source": [
        "from cs231n.layer_utils import affine_relu_forward, affine_relu_backward\n",
        "np.random.seed(231)\n",
        "x = np.random.randn(2, 3, 4)\n",
        "w = np.random.randn(12, 10)\n",
        "b = np.random.randn(10)\n",
        "dout = np.random.randn(2, 10)\n",
        "\n",
        "out, cache = affine_relu_forward(x, w, b)\n",
        "dx, dw, db = affine_relu_backward(dout, cache)\n",
        "\n",
        "dx_num = eval_numerical_gradient_array(lambda x: affine_relu_forward(x, w, b)[0], x, dout)\n",
        "dw_num = eval_numerical_gradient_array(lambda w: affine_relu_forward(x, w, b)[0], w, dout)\n",
        "db_num = eval_numerical_gradient_array(lambda b: affine_relu_forward(x, w, b)[0], b, dout)\n",
        "\n",
        "# Relative error should be around e-10 or less\n",
        "print('Testing affine_relu_forward and affine_relu_backward:')\n",
        "print('dx error: ', rel_error(dx_num, dx))\n",
        "print('dw error: ', rel_error(dw_num, dw))\n",
        "print('db error: ', rel_error(db_num, db))"
      ],
      "execution_count": 67,
      "outputs": [
        {
          "output_type": "stream",
          "text": [
            "Testing affine_relu_forward and affine_relu_backward:\n",
            "dx error:  2.299579177309368e-11\n",
            "dw error:  8.162011105764925e-11\n",
            "db error:  7.826724021458994e-12\n"
          ],
          "name": "stdout"
        }
      ]
    },
    {
      "cell_type": "code",
      "metadata": {
        "id": "YMRk0cWktpvu",
        "colab_type": "code",
        "outputId": "785183c5-9f20-44d0-d5f8-b75acbf40fd5",
        "colab": {
          "base_uri": "https://localhost:8080/",
          "height": 136
        }
      },
      "source": [
        "np.random.seed(231)\n",
        "num_classes, num_inputs = 10, 50\n",
        "x = 0.001 * np.random.randn(num_inputs, num_classes)\n",
        "y = np.random.randint(num_classes, size=num_inputs)\n",
        "\n",
        "dx_num = eval_numerical_gradient(lambda x: svm_loss(x, y)[0], x, verbose=False)\n",
        "loss, dx = svm_loss(x, y)\n",
        "\n",
        "# Test svm_loss function. Loss should be around 9 and dx error should be around the order of e-9\n",
        "print('Testing svm_loss:')\n",
        "print('loss: ', loss)\n",
        "print('dx error: ', rel_error(dx_num, dx))\n",
        "\n",
        "dx_num = eval_numerical_gradient(lambda x: softmax_loss(x, y)[0], x, verbose=False)\n",
        "loss, dx = softmax_loss(x, y)\n",
        "\n",
        "# Test softmax_loss function. Loss should be close to 2.3 and dx error should be around e-8\n",
        "print('\\nTesting softmax_loss:')\n",
        "print('loss: ', loss)\n",
        "print('dx error: ', rel_error(dx_num, dx))"
      ],
      "execution_count": 68,
      "outputs": [
        {
          "output_type": "stream",
          "text": [
            "Testing svm_loss:\n",
            "loss:  8.999602749096233\n",
            "dx error:  1.4021566006651672e-09\n",
            "\n",
            "Testing softmax_loss:\n",
            "loss:  2.302545844500738\n",
            "dx error:  9.384673161989355e-09\n"
          ],
          "name": "stdout"
        }
      ]
    },
    {
      "cell_type": "code",
      "metadata": {
        "id": "9HACkUDFtps0",
        "colab_type": "code",
        "outputId": "5f2a9de8-edc4-4fd7-8e3f-87003ca7b0b0",
        "colab": {
          "base_uri": "https://localhost:8080/",
          "height": 238
        }
      },
      "source": [
        "np.random.seed(231)\n",
        "N, D, H, C = 3, 5, 50, 7\n",
        "X = np.random.randn(N, D)\n",
        "y = np.random.randint(C, size=N)\n",
        "\n",
        "std = 1e-3\n",
        "model = TwoLayerNet(input_dim=D, hidden_dim=H, num_classes=C, weight_scale=std)\n",
        "\n",
        "print('Testing initialization ... ')\n",
        "W1_std = abs(model.params['W1'].std() - std)\n",
        "b1 = model.params['b1']\n",
        "W2_std = abs(model.params['W2'].std() - std)\n",
        "b2 = model.params['b2']\n",
        "assert W1_std < std / 10, 'First layer weights do not seem right'\n",
        "assert np.all(b1 == 0), 'First layer biases do not seem right'\n",
        "assert W2_std < std / 10, 'Second layer weights do not seem right'\n",
        "assert np.all(b2 == 0), 'Second layer biases do not seem right'\n",
        "\n",
        "print('Testing test-time forward pass ... ')\n",
        "model.params['W1'] = np.linspace(-0.7, 0.3, num=D*H).reshape(D, H)\n",
        "model.params['b1'] = np.linspace(-0.1, 0.9, num=H)\n",
        "model.params['W2'] = np.linspace(-0.3, 0.4, num=H*C).reshape(H, C)\n",
        "model.params['b2'] = np.linspace(-0.9, 0.1, num=C)\n",
        "X = np.linspace(-5.5, 4.5, num=N*D).reshape(D, N).T\n",
        "scores = model.loss(X)\n",
        "correct_scores = np.asarray(\n",
        "  [[11.53165108,  12.2917344,   13.05181771,  13.81190102,  14.57198434, 15.33206765,  16.09215096],\n",
        "   [12.05769098,  12.74614105,  13.43459113,  14.1230412,   14.81149128, 15.49994135,  16.18839143],\n",
        "   [12.58373087,  13.20054771,  13.81736455,  14.43418138,  15.05099822, 15.66781506,  16.2846319 ]])\n",
        "scores_diff = np.abs(scores - correct_scores).sum()\n",
        "assert scores_diff < 1e-6, 'Problem with test-time forward pass'\n",
        "\n",
        "print('Testing training loss (no regularization)')\n",
        "y = np.asarray([0, 5, 1])\n",
        "loss, grads = model.loss(X, y)\n",
        "correct_loss = 3.4702243556\n",
        "assert abs(loss - correct_loss) < 1e-10, 'Problem with training-time loss'\n",
        "\n",
        "model.reg = 1.0\n",
        "loss, grads = model.loss(X, y)\n",
        "correct_loss = 26.5948426952\n",
        "assert abs(loss - correct_loss) < 1e-10, 'Problem with regularization loss'\n",
        "\n",
        "# Errors should be around e-7 or less\n",
        "for reg in [0.0, 0.7]:\n",
        "  print('Running numeric gradient check with reg = ', reg)\n",
        "  model.reg = reg\n",
        "  loss, grads = model.loss(X, y)\n",
        "\n",
        "  for name in sorted(grads):\n",
        "    f = lambda _: model.loss(X, y)[0]\n",
        "    grad_num = eval_numerical_gradient(f, model.params[name], verbose=False)\n",
        "    print('%s relative error: %.2e' % (name, rel_error(grad_num, grads[name])))"
      ],
      "execution_count": 69,
      "outputs": [
        {
          "output_type": "stream",
          "text": [
            "Testing initialization ... \n",
            "Testing test-time forward pass ... \n",
            "Testing training loss (no regularization)\n",
            "Running numeric gradient check with reg =  0.0\n",
            "W1 relative error: 1.83e-08\n",
            "W2 relative error: 3.12e-10\n",
            "b1 relative error: 9.83e-09\n",
            "b2 relative error: 4.33e-10\n",
            "Running numeric gradient check with reg =  0.7\n",
            "W1 relative error: 2.53e-07\n",
            "W2 relative error: 2.85e-08\n",
            "b1 relative error: 1.56e-08\n",
            "b2 relative error: 7.76e-10\n"
          ],
          "name": "stdout"
        }
      ]
    },
    {
      "cell_type": "code",
      "metadata": {
        "id": "SpGldowLtpoY",
        "colab_type": "code",
        "colab": {
          "base_uri": "https://localhost:8080/",
          "height": 1000
        },
        "outputId": "e18a0dce-9b5f-4f8b-8197-b99ac9b6b4c2"
      },
      "source": [
        "model = TwoLayerNet()\n",
        "solver = None\n",
        "data_solver = {'X_train': data['X_train'], 'y_train': data['y_train'],\n",
        "               'X_val': data['X_val'], 'y_val': data['y_val']}\n",
        "##############################################################################\n",
        "# TODO: Use a Solver instance to train a TwoLayerNet that achieves at least  #\n",
        "# 50% accuracy on the validation set.                                        #\n",
        "##############################################################################\n",
        "# *****START OF YOUR CODE (DO NOT DELETE/MODIFY THIS LINE)*****\n",
        "\n",
        "solver = Solver(model, data_solver, update_rule='sgd',\n",
        "                    optim_config={\n",
        "                      'learning_rate': 1e-3,\n",
        "                    },\n",
        "                    lr_decay=0.95,\n",
        "                    num_epochs=10, batch_size=100,\n",
        "                    print_every=100)\n",
        "solver.train()\n",
        "\n",
        "# *****END OF YOUR CODE (DO NOT DELETE/MODIFY THIS LINE)*****\n",
        "##############################################################################\n",
        "#                             END OF YOUR CODE                               #\n",
        "##############################################################################"
      ],
      "execution_count": 70,
      "outputs": [
        {
          "output_type": "stream",
          "text": [
            "(Iteration 1 / 4900) loss: 2.304060\n",
            "(Epoch 0 / 10) train acc: 0.116000; val_acc: 0.094000\n",
            "(Iteration 101 / 4900) loss: 1.829613\n",
            "(Iteration 201 / 4900) loss: 1.857390\n",
            "(Iteration 301 / 4900) loss: 1.744448\n",
            "(Iteration 401 / 4900) loss: 1.420187\n",
            "(Epoch 1 / 10) train acc: 0.407000; val_acc: 0.422000\n",
            "(Iteration 501 / 4900) loss: 1.565913\n",
            "(Iteration 601 / 4900) loss: 1.700510\n",
            "(Iteration 701 / 4900) loss: 1.732213\n",
            "(Iteration 801 / 4900) loss: 1.688361\n",
            "(Iteration 901 / 4900) loss: 1.439529\n",
            "(Epoch 2 / 10) train acc: 0.497000; val_acc: 0.468000\n",
            "(Iteration 1001 / 4900) loss: 1.385772\n",
            "(Iteration 1101 / 4900) loss: 1.278401\n",
            "(Iteration 1201 / 4900) loss: 1.641580\n",
            "(Iteration 1301 / 4900) loss: 1.438847\n",
            "(Iteration 1401 / 4900) loss: 1.172536\n",
            "(Epoch 3 / 10) train acc: 0.490000; val_acc: 0.466000\n",
            "(Iteration 1501 / 4900) loss: 1.346286\n",
            "(Iteration 1601 / 4900) loss: 1.268492\n",
            "(Iteration 1701 / 4900) loss: 1.318215\n",
            "(Iteration 1801 / 4900) loss: 1.395750\n",
            "(Iteration 1901 / 4900) loss: 1.338233\n",
            "(Epoch 4 / 10) train acc: 0.532000; val_acc: 0.497000\n",
            "(Iteration 2001 / 4900) loss: 1.343165\n",
            "(Iteration 2101 / 4900) loss: 1.393173\n",
            "(Iteration 2201 / 4900) loss: 1.276734\n",
            "(Iteration 2301 / 4900) loss: 1.287951\n",
            "(Iteration 2401 / 4900) loss: 1.352778\n",
            "(Epoch 5 / 10) train acc: 0.525000; val_acc: 0.475000\n",
            "(Iteration 2501 / 4900) loss: 1.390234\n",
            "(Iteration 2601 / 4900) loss: 1.276361\n",
            "(Iteration 2701 / 4900) loss: 1.111768\n",
            "(Iteration 2801 / 4900) loss: 1.271688\n",
            "(Iteration 2901 / 4900) loss: 1.272039\n",
            "(Epoch 6 / 10) train acc: 0.546000; val_acc: 0.509000\n",
            "(Iteration 3001 / 4900) loss: 1.304489\n",
            "(Iteration 3101 / 4900) loss: 1.346667\n",
            "(Iteration 3201 / 4900) loss: 1.325510\n",
            "(Iteration 3301 / 4900) loss: 1.392728\n",
            "(Iteration 3401 / 4900) loss: 1.402001\n",
            "(Epoch 7 / 10) train acc: 0.567000; val_acc: 0.505000\n",
            "(Iteration 3501 / 4900) loss: 1.319024\n",
            "(Iteration 3601 / 4900) loss: 1.153287\n",
            "(Iteration 3701 / 4900) loss: 1.180922\n",
            "(Iteration 3801 / 4900) loss: 1.093164\n",
            "(Iteration 3901 / 4900) loss: 1.135902\n",
            "(Epoch 8 / 10) train acc: 0.568000; val_acc: 0.490000\n",
            "(Iteration 4001 / 4900) loss: 1.191735\n",
            "(Iteration 4101 / 4900) loss: 1.359396\n",
            "(Iteration 4201 / 4900) loss: 1.227283\n",
            "(Iteration 4301 / 4900) loss: 1.024113\n",
            "(Iteration 4401 / 4900) loss: 1.327583\n",
            "(Epoch 9 / 10) train acc: 0.592000; val_acc: 0.504000\n",
            "(Iteration 4501 / 4900) loss: 0.963330\n",
            "(Iteration 4601 / 4900) loss: 1.445619\n",
            "(Iteration 4701 / 4900) loss: 1.007542\n",
            "(Iteration 4801 / 4900) loss: 1.005175\n",
            "(Epoch 10 / 10) train acc: 0.611000; val_acc: 0.512000\n"
          ],
          "name": "stdout"
        }
      ]
    },
    {
      "cell_type": "code",
      "metadata": {
        "id": "Rt6b6Ql-jsop",
        "colab_type": "code",
        "colab": {
          "base_uri": "https://localhost:8080/",
          "height": 730
        },
        "outputId": "55d3aa81-5816-4fb7-acea-c7304836f5b7"
      },
      "source": [
        "# Run this cell to visualize training loss and train / val accuracy\n",
        "\n",
        "plt.subplot(2, 1, 1)\n",
        "plt.title('Training loss')\n",
        "plt.plot(solver.loss_history, 'o')\n",
        "plt.xlabel('Iteration')\n",
        "\n",
        "plt.subplot(2, 1, 2)\n",
        "plt.title('Accuracy')\n",
        "plt.plot(solver.train_acc_history, '-o', label='train')\n",
        "plt.plot(solver.val_acc_history, '-o', label='val')\n",
        "plt.plot([0.5] * len(solver.val_acc_history), 'k--')\n",
        "plt.xlabel('Epoch')\n",
        "plt.legend(loc='lower right')\n",
        "plt.gcf().set_size_inches(15, 12)\n",
        "plt.show()"
      ],
      "execution_count": 71,
      "outputs": [
        {
          "output_type": "display_data",
          "data": {
            "image/png": "[encoded data removed]",
            "text/plain": [
              "<Figure size 1080x864 with 2 Axes>"
            ]
          },
          "metadata": {
            "tags": []
          }
        }
      ]
    },
    {
      "cell_type": "code",
      "metadata": {
        "id": "PikSkN5gjslc",
        "colab_type": "code",
        "colab": {
          "base_uri": "https://localhost:8080/",
          "height": 289
        },
        "outputId": "41ae381c-4463-4a07-f74d-5eb2abab8135"
      },
      "source": [
        "np.random.seed(231)\n",
        "N, D, H1, H2, C = 2, 15, 20, 30, 10\n",
        "X = np.random.randn(N, D)\n",
        "y = np.random.randint(C, size=(N,))\n",
        "\n",
        "for reg in [0, 3.14]:\n",
        "  print('Running check with reg = ', reg)\n",
        "  model = FullyConnectedNet([H1, H2], input_dim=D, num_classes=C,\n",
        "                            reg=reg, weight_scale=5e-2, dtype=np.float64)\n",
        "\n",
        "  loss, grads = model.loss(X, y)\n",
        "  print('Initial loss: ', loss)\n",
        "  \n",
        "  \n",
        "  # Most of the errors should be on the order of e-7 or smaller.   \n",
        "  # NOTE: It is fine however to see an error for W2 on the order of e-5\n",
        "  # for the check when reg = 0.0\n",
        "  for name in sorted(grads):\n",
        "    f = lambda _: model.loss(X, y)[0]\n",
        "    grad_num = eval_numerical_gradient(f, model.params[name], verbose=False, h=1e-5)\n",
        "    print('%s relative error: %.2e' % (name, rel_error(grad_num, grads[name])))"
      ],
      "execution_count": 91,
      "outputs": [
        {
          "output_type": "stream",
          "text": [
            "Running check with reg =  0\n",
            "Initial loss:  2.3004790897684924\n",
            "W1 relative error: 1.48e-07\n",
            "W2 relative error: 2.21e-05\n",
            "W3 relative error: 3.53e-07\n",
            "b1 relative error: 5.38e-09\n",
            "b2 relative error: 2.09e-09\n",
            "b3 relative error: 5.80e-11\n",
            "Running check with reg =  3.14\n",
            "Initial loss:  7.052114776533016\n",
            "W1 relative error: 3.90e-09\n",
            "W2 relative error: 6.87e-08\n",
            "W3 relative error: 2.13e-08\n",
            "b1 relative error: 1.48e-08\n",
            "b2 relative error: 1.72e-09\n",
            "b3 relative error: 1.57e-10\n"
          ],
          "name": "stdout"
        }
      ]
    },
    {
      "cell_type": "code",
      "metadata": {
        "id": "-ATi4r2ljsgO",
        "colab_type": "code",
        "colab": {
          "base_uri": "https://localhost:8080/",
          "height": 938
        },
        "outputId": "7716a647-b338-4c1f-c8b7-42d48b2b9fd7"
      },
      "source": [
        "# TODO: Use a three-layer Net to overfit 50 training examples by \n",
        "# tweaking just the learning rate and initialization scale.\n",
        "\n",
        "num_train = 50\n",
        "small_data = {\n",
        "  'X_train': data['X_train'][:num_train],\n",
        "  'y_train': data['y_train'][:num_train],\n",
        "  'X_val': data['X_val'],\n",
        "  'y_val': data['y_val'],\n",
        "}\n",
        "\n",
        "weight_scale = 1e-1   # Experiment with this!\n",
        "learning_rate = 1e-3  # Experiment with this!\n",
        "model = FullyConnectedNet([100, 100],\n",
        "              weight_scale=weight_scale, dtype=np.float64)\n",
        "solver = Solver(model, small_data,\n",
        "                print_every=10, num_epochs=20, batch_size=25,\n",
        "                update_rule='sgd',\n",
        "                optim_config={\n",
        "                  'learning_rate': learning_rate,\n",
        "                }\n",
        "         )\n",
        "solver.train()\n",
        "\n",
        "plt.plot(solver.loss_history, 'o')\n",
        "plt.title('Training loss history')\n",
        "plt.xlabel('Iteration')\n",
        "plt.ylabel('Training loss')\n",
        "plt.show()"
      ],
      "execution_count": 109,
      "outputs": [
        {
          "output_type": "stream",
          "text": [
            "(Iteration 1 / 40) loss: 231.422470\n",
            "(Epoch 0 / 20) train acc: 0.260000; val_acc: 0.145000\n",
            "(Epoch 1 / 20) train acc: 0.240000; val_acc: 0.103000\n",
            "(Epoch 2 / 20) train acc: 0.440000; val_acc: 0.141000\n",
            "(Epoch 3 / 20) train acc: 0.760000; val_acc: 0.131000\n",
            "(Epoch 4 / 20) train acc: 0.840000; val_acc: 0.143000\n",
            "(Epoch 5 / 20) train acc: 0.940000; val_acc: 0.153000\n",
            "(Iteration 11 / 40) loss: 0.008870\n",
            "(Epoch 6 / 20) train acc: 0.900000; val_acc: 0.165000\n",
            "(Epoch 7 / 20) train acc: 1.000000; val_acc: 0.159000\n",
            "(Epoch 8 / 20) train acc: 1.000000; val_acc: 0.159000\n",
            "(Epoch 9 / 20) train acc: 1.000000; val_acc: 0.159000\n",
            "(Epoch 10 / 20) train acc: 1.000000; val_acc: 0.159000\n",
            "(Iteration 21 / 40) loss: 0.000050\n",
            "(Epoch 11 / 20) train acc: 1.000000; val_acc: 0.159000\n",
            "(Epoch 12 / 20) train acc: 1.000000; val_acc: 0.159000\n",
            "(Epoch 13 / 20) train acc: 1.000000; val_acc: 0.159000\n",
            "(Epoch 14 / 20) train acc: 1.000000; val_acc: 0.159000\n",
            "(Epoch 15 / 20) train acc: 1.000000; val_acc: 0.159000\n",
            "(Iteration 31 / 40) loss: 0.000005\n",
            "(Epoch 16 / 20) train acc: 1.000000; val_acc: 0.159000\n",
            "(Epoch 17 / 20) train acc: 1.000000; val_acc: 0.159000\n",
            "(Epoch 18 / 20) train acc: 1.000000; val_acc: 0.159000\n",
            "(Epoch 19 / 20) train acc: 1.000000; val_acc: 0.159000\n",
            "(Epoch 20 / 20) train acc: 1.000000; val_acc: 0.159000\n"
          ],
          "name": "stdout"
        },
        {
          "output_type": "display_data",
          "data": {
            "image/png": "[encoded data removed]",
            "text/plain": [
              "<Figure size 720x576 with 1 Axes>"
            ]
          },
          "metadata": {
            "tags": []
          }
        }
      ]
    },
    {
      "cell_type": "code",
      "metadata": {
        "id": "pKM--58SjsZf",
        "colab_type": "code",
        "colab": {
          "base_uri": "https://localhost:8080/",
          "height": 938
        },
        "outputId": "4b6632de-5475-451d-8eb6-2e7ac78efbb7"
      },
      "source": [
        "# TODO: Use a five-layer Net to overfit 50 training examples by \n",
        "# tweaking just the learning rate and initialization scale.\n",
        "\n",
        "num_train = 50\n",
        "small_data = {\n",
        "  'X_train': data['X_train'][:num_train],\n",
        "  'y_train': data['y_train'][:num_train],\n",
        "  'X_val': data['X_val'],\n",
        "  'y_val': data['y_val'],\n",
        "}\n",
        "\n",
        "learning_rate = 2e-3  # Experiment with this!\n",
        "weight_scale = 1e-1   # Experiment with this!\n",
        "model = FullyConnectedNet([100, 100, 100, 100],\n",
        "                weight_scale=weight_scale, dtype=np.float64)\n",
        "solver = Solver(model, small_data,\n",
        "                print_every=10, num_epochs=20, batch_size=25,\n",
        "                update_rule='sgd',\n",
        "                optim_config={\n",
        "                  'learning_rate': learning_rate,\n",
        "                }\n",
        "         )\n",
        "solver.train()\n",
        "\n",
        "plt.plot(solver.loss_history, 'o')\n",
        "plt.title('Training loss history')\n",
        "plt.xlabel('Iteration')\n",
        "plt.ylabel('Training loss')\n",
        "plt.show()"
      ],
      "execution_count": 111,
      "outputs": [
        {
          "output_type": "stream",
          "text": [
            "(Iteration 1 / 40) loss: 173.582948\n",
            "(Epoch 0 / 20) train acc: 0.220000; val_acc: 0.131000\n",
            "(Epoch 1 / 20) train acc: 0.200000; val_acc: 0.096000\n",
            "(Epoch 2 / 20) train acc: 0.260000; val_acc: 0.107000\n",
            "(Epoch 3 / 20) train acc: 0.400000; val_acc: 0.126000\n",
            "(Epoch 4 / 20) train acc: 0.500000; val_acc: 0.133000\n",
            "(Epoch 5 / 20) train acc: 0.660000; val_acc: 0.132000\n",
            "(Iteration 11 / 40) loss: 3.174676\n",
            "(Epoch 6 / 20) train acc: 0.720000; val_acc: 0.123000\n",
            "(Epoch 7 / 20) train acc: 0.860000; val_acc: 0.130000\n",
            "(Epoch 8 / 20) train acc: 0.920000; val_acc: 0.142000\n",
            "(Epoch 9 / 20) train acc: 0.920000; val_acc: 0.138000\n",
            "(Epoch 10 / 20) train acc: 0.940000; val_acc: 0.138000\n",
            "(Iteration 21 / 40) loss: 0.005097\n",
            "(Epoch 11 / 20) train acc: 0.980000; val_acc: 0.137000\n",
            "(Epoch 12 / 20) train acc: 1.000000; val_acc: 0.132000\n",
            "(Epoch 13 / 20) train acc: 1.000000; val_acc: 0.130000\n",
            "(Epoch 14 / 20) train acc: 1.000000; val_acc: 0.129000\n",
            "(Epoch 15 / 20) train acc: 1.000000; val_acc: 0.127000\n",
            "(Iteration 31 / 40) loss: 0.000529\n",
            "(Epoch 16 / 20) train acc: 1.000000; val_acc: 0.128000\n",
            "(Epoch 17 / 20) train acc: 1.000000; val_acc: 0.127000\n",
            "(Epoch 18 / 20) train acc: 1.000000; val_acc: 0.127000\n",
            "(Epoch 19 / 20) train acc: 1.000000; val_acc: 0.126000\n",
            "(Epoch 20 / 20) train acc: 1.000000; val_acc: 0.126000\n"
          ],
          "name": "stdout"
        },
        {
          "output_type": "display_data",
          "data": {
            "image/png": "[encoded data removed]",
            "text/plain": [
              "<Figure size 720x576 with 1 Axes>"
            ]
          },
          "metadata": {
            "tags": []
          }
        }
      ]
    },
    {
      "cell_type": "code",
      "metadata": {
        "id": "ZC7nU59LjsVw",
        "colab_type": "code",
        "colab": {
          "base_uri": "https://localhost:8080/",
          "height": 51
        },
        "outputId": "23c1aa40-676f-48bf-f5c4-136885bf66c5"
      },
      "source": [
        "from cs231n.optim import sgd_momentum\n",
        "\n",
        "N, D = 4, 5\n",
        "w = np.linspace(-0.4, 0.6, num=N*D).reshape(N, D)\n",
        "dw = np.linspace(-0.6, 0.4, num=N*D).reshape(N, D)\n",
        "v = np.linspace(0.6, 0.9, num=N*D).reshape(N, D)\n",
        "\n",
        "config = {'learning_rate': 1e-3, 'velocity': v}\n",
        "next_w, _ = sgd_momentum(w, dw, config=config)\n",
        "\n",
        "expected_next_w = np.asarray([\n",
        "  [ 0.1406,      0.20738947,  0.27417895,  0.34096842,  0.40775789],\n",
        "  [ 0.47454737,  0.54133684,  0.60812632,  0.67491579,  0.74170526],\n",
        "  [ 0.80849474,  0.87528421,  0.94207368,  1.00886316,  1.07565263],\n",
        "  [ 1.14244211,  1.20923158,  1.27602105,  1.34281053,  1.4096    ]])\n",
        "expected_velocity = np.asarray([\n",
        "  [ 0.5406,      0.55475789,  0.56891579, 0.58307368,  0.59723158],\n",
        "  [ 0.61138947,  0.62554737,  0.63970526,  0.65386316,  0.66802105],\n",
        "  [ 0.68217895,  0.69633684,  0.71049474,  0.72465263,  0.73881053],\n",
        "  [ 0.75296842,  0.76712632,  0.78128421,  0.79544211,  0.8096    ]])\n",
        "\n",
        "# Should see relative errors around e-8 or less\n",
        "print('next_w error: ', rel_error(next_w, expected_next_w))\n",
        "print('velocity error: ', rel_error(expected_velocity, config['velocity']))"
      ],
      "execution_count": 113,
      "outputs": [
        {
          "output_type": "stream",
          "text": [
            "next_w error:  8.882347033505819e-09\n",
            "velocity error:  4.269287743278663e-09\n"
          ],
          "name": "stdout"
        }
      ]
    },
    {
      "cell_type": "code",
      "metadata": {
        "id": "YpZ_T_iZjsTi",
        "colab_type": "code",
        "colab": {
          "base_uri": "https://localhost:8080/",
          "height": 1000
        },
        "outputId": "dde656e4-05d4-4e9c-877e-5960e749e13f"
      },
      "source": [
        "num_train = 4000\n",
        "small_data = {\n",
        "  'X_train': data['X_train'][:num_train],\n",
        "  'y_train': data['y_train'][:num_train],\n",
        "  'X_val': data['X_val'],\n",
        "  'y_val': data['y_val'],\n",
        "}\n",
        "\n",
        "solvers = {}\n",
        "\n",
        "for update_rule in ['sgd', 'sgd_momentum']:\n",
        "  print('running with ', update_rule)\n",
        "  model = FullyConnectedNet([100, 100, 100, 100, 100], weight_scale=5e-2)\n",
        "\n",
        "  solver = Solver(model, small_data,\n",
        "                  num_epochs=5, batch_size=100,\n",
        "                  update_rule=update_rule,\n",
        "                  optim_config={\n",
        "                    'learning_rate': 5e-3,\n",
        "                  },\n",
        "                  verbose=True)\n",
        "  solvers[update_rule] = solver\n",
        "  solver.train()\n",
        "  print()\n",
        "\n",
        "plt.subplot(3, 1, 1)\n",
        "plt.title('Training loss')\n",
        "plt.xlabel('Iteration')\n",
        "\n",
        "plt.subplot(3, 1, 2)\n",
        "plt.title('Training accuracy')\n",
        "plt.xlabel('Epoch')\n",
        "\n",
        "plt.subplot(3, 1, 3)\n",
        "plt.title('Validation accuracy')\n",
        "plt.xlabel('Epoch')\n",
        "\n",
        "for update_rule, solver in solvers.items():\n",
        "  plt.subplot(3, 1, 1)\n",
        "  plt.plot(solver.loss_history, 'o', label=\"loss_%s\" % update_rule)\n",
        "  \n",
        "  plt.subplot(3, 1, 2)\n",
        "  plt.plot(solver.train_acc_history, '-o', label=\"train_acc_%s\" % update_rule)\n",
        "\n",
        "  plt.subplot(3, 1, 3)\n",
        "  plt.plot(solver.val_acc_history, '-o', label=\"val_acc_%s\" % update_rule)\n",
        "  \n",
        "for i in [1, 2, 3]:\n",
        "  plt.subplot(3, 1, i)\n",
        "  plt.legend(loc='upper center', ncol=4)\n",
        "plt.gcf().set_size_inches(15, 15)\n",
        "plt.show()"
      ],
      "execution_count": 115,
      "outputs": [
        {
          "output_type": "stream",
          "text": [
            "running with  sgd\n",
            "(Iteration 1 / 200) loss: 2.968437\n",
            "(Epoch 0 / 5) train acc: 0.080000; val_acc: 0.081000\n",
            "(Iteration 11 / 200) loss: 2.299787\n",
            "(Iteration 21 / 200) loss: 2.166618\n",
            "(Iteration 31 / 200) loss: 2.202480\n",
            "(Epoch 1 / 5) train acc: 0.228000; val_acc: 0.193000\n",
            "(Iteration 41 / 200) loss: 2.084094\n",
            "(Iteration 51 / 200) loss: 2.058998\n",
            "(Iteration 61 / 200) loss: 2.016820\n",
            "(Iteration 71 / 200) loss: 1.852745\n",
            "(Epoch 2 / 5) train acc: 0.273000; val_acc: 0.256000\n",
            "(Iteration 81 / 200) loss: 2.093512\n",
            "(Iteration 91 / 200) loss: 1.952905\n",
            "(Iteration 101 / 200) loss: 1.934917\n",
            "(Iteration 111 / 200) loss: 1.862220\n",
            "(Epoch 3 / 5) train acc: 0.320000; val_acc: 0.284000\n",
            "(Iteration 121 / 200) loss: 1.923212\n",
            "(Iteration 131 / 200) loss: 1.792715\n",
            "(Iteration 141 / 200) loss: 1.813500\n",
            "(Iteration 151 / 200) loss: 1.842795\n",
            "(Epoch 4 / 5) train acc: 0.354000; val_acc: 0.296000\n",
            "(Iteration 161 / 200) loss: 1.994216\n",
            "(Iteration 171 / 200) loss: 1.736695\n",
            "(Iteration 181 / 200) loss: 1.789775\n",
            "(Iteration 191 / 200) loss: 1.840487\n",
            "(Epoch 5 / 5) train acc: 0.380000; val_acc: 0.309000\n",
            "\n",
            "running with  sgd_momentum\n",
            "(Iteration 1 / 200) loss: 2.513931\n",
            "(Epoch 0 / 5) train acc: 0.114000; val_acc: 0.111000\n",
            "(Iteration 11 / 200) loss: 2.133597\n",
            "(Iteration 21 / 200) loss: 1.972323\n",
            "(Iteration 31 / 200) loss: 1.952471\n",
            "(Epoch 1 / 5) train acc: 0.343000; val_acc: 0.325000\n",
            "(Iteration 41 / 200) loss: 1.867419\n",
            "(Iteration 51 / 200) loss: 1.960977\n",
            "(Iteration 61 / 200) loss: 1.890530\n",
            "(Iteration 71 / 200) loss: 1.642884\n",
            "(Epoch 2 / 5) train acc: 0.440000; val_acc: 0.343000\n",
            "(Iteration 81 / 200) loss: 1.721931\n",
            "(Iteration 91 / 200) loss: 1.894256\n",
            "(Iteration 101 / 200) loss: 1.609119\n",
            "(Iteration 111 / 200) loss: 1.513192\n",
            "(Epoch 3 / 5) train acc: 0.461000; val_acc: 0.347000\n",
            "(Iteration 121 / 200) loss: 1.575761\n",
            "(Iteration 131 / 200) loss: 1.756168\n",
            "(Iteration 141 / 200) loss: 1.524865\n",
            "(Iteration 151 / 200) loss: 1.428821\n",
            "(Epoch 4 / 5) train acc: 0.476000; val_acc: 0.354000\n",
            "(Iteration 161 / 200) loss: 1.338381\n",
            "(Iteration 171 / 200) loss: 1.536286\n",
            "(Iteration 181 / 200) loss: 1.187412\n",
            "(Iteration 191 / 200) loss: 1.209725\n",
            "(Epoch 5 / 5) train acc: 0.559000; val_acc: 0.379000\n",
            "\n"
          ],
          "name": "stdout"
        },
        {
          "output_type": "stream",
          "text": [
            "/usr/local/lib/python3.6/dist-packages/ipykernel_launcher.py:39: MatplotlibDeprecationWarning: Adding an axes using the same arguments as a previous axes currently reuses the earlier instance.  In a future version, a new instance will always be created and returned.  Meanwhile, this warning can be suppressed, and the future behavior ensured, by passing a unique label to each axes instance.\n",
            "/usr/local/lib/python3.6/dist-packages/ipykernel_launcher.py:42: MatplotlibDeprecationWarning: Adding an axes using the same arguments as a previous axes currently reuses the earlier instance.  In a future version, a new instance will always be created and returned.  Meanwhile, this warning can be suppressed, and the future behavior ensured, by passing a unique label to each axes instance.\n",
            "/usr/local/lib/python3.6/dist-packages/ipykernel_launcher.py:45: MatplotlibDeprecationWarning: Adding an axes using the same arguments as a previous axes currently reuses the earlier instance.  In a future version, a new instance will always be created and returned.  Meanwhile, this warning can be suppressed, and the future behavior ensured, by passing a unique label to each axes instance.\n",
            "/usr/local/lib/python3.6/dist-packages/ipykernel_launcher.py:49: MatplotlibDeprecationWarning: Adding an axes using the same arguments as a previous axes currently reuses the earlier instance.  In a future version, a new instance will always be created and returned.  Meanwhile, this warning can be suppressed, and the future behavior ensured, by passing a unique label to each axes instance.\n"
          ],
          "name": "stderr"
        },
        {
          "output_type": "display_data",
          "data": {
            "image/png": "[encoded data removed]",
            "text/plain": [
              "<Figure size 1080x1080 with 3 Axes>"
            ]
          },
          "metadata": {
            "tags": []
          }
        }
      ]
    },
    {
      "cell_type": "code",
      "metadata": {
        "id": "yB0ffKo-jsRI",
        "colab_type": "code",
        "colab": {}
      },
      "source": [
        ""
      ],
      "execution_count": 0,
      "outputs": []
    },
    {
      "cell_type": "code",
      "metadata": {
        "id": "kxUvZKlWjsOW",
        "colab_type": "code",
        "colab": {}
      },
      "source": [
        ""
      ],
      "execution_count": 0,
      "outputs": []
    },
    {
      "cell_type": "code",
      "metadata": {
        "id": "HG8Y84jmjsLF",
        "colab_type": "code",
        "colab": {}
      },
      "source": [
        ""
      ],
      "execution_count": 0,
      "outputs": []
    }
  ]
}