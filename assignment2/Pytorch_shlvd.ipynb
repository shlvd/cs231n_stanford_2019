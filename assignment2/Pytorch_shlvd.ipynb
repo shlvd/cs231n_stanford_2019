{
  "nbformat": 4,
  "nbformat_minor": 0,
  "metadata": {
    "colab": {
      "name": "Pytorch_shlvd.ipynb",
      "provenance": [],
      "collapsed_sections": []
    },
    "kernelspec": {
      "name": "python3",
      "display_name": "Python 3"
    },
    "accelerator": "GPU"
  },
  "cells": [
    {
      "cell_type": "code",
      "metadata": {
        "id": "NK_2BhUki72F",
        "colab_type": "code",
        "colab": {}
      },
      "source": [
        "import torch\n",
        "import torch.nn as nn\n",
        "import torch.optim as optim\n",
        "from torch.utils.data import DataLoader\n",
        "from torch.utils.data import sampler\n",
        "\n",
        "import torchvision.datasets as dset\n",
        "import torchvision.transforms as T\n",
        "\n",
        "import numpy as np"
      ],
      "execution_count": 0,
      "outputs": []
    },
    {
      "cell_type": "code",
      "metadata": {
        "id": "F5CR5Rugi7z4",
        "colab_type": "code",
        "outputId": "a34d7cbb-de6c-4c7c-a615-2c1e812c5e6c",
        "colab": {
          "base_uri": "https://localhost:8080/",
          "height": 102
        }
      },
      "source": [
        "NUM_TRAIN = 49000\n",
        "\n",
        "# The torchvision.transforms package provides tools for preprocessing data\n",
        "# and for performing data augmentation; here we set up a transform to\n",
        "# preprocess the data by subtracting the mean RGB value and dividing by the\n",
        "# standard deviation of each RGB value; we've hardcoded the mean and std.\n",
        "transform = T.Compose([\n",
        "                T.ToTensor(),\n",
        "                T.Normalize((0.4914, 0.4822, 0.4465), (0.2023, 0.1994, 0.2010))\n",
        "            ])\n",
        "\n",
        "# We set up a Dataset object for each split (train / val / test); Datasets load\n",
        "# training examples one at a time, so we wrap each Dataset in a DataLoader which\n",
        "# iterates through the Dataset and forms minibatches. We divide the CIFAR-10\n",
        "# training set into train and val sets by passing a Sampler object to the\n",
        "# DataLoader telling how it should sample from the underlying Dataset.\n",
        "cifar10_train = dset.CIFAR10('./cs231n/datasets', train=True, download=True,\n",
        "                             transform=transform)\n",
        "loader_train = DataLoader(cifar10_train, batch_size=64, \n",
        "                          sampler=sampler.SubsetRandomSampler(range(NUM_TRAIN)))\n",
        "\n",
        "cifar10_val = dset.CIFAR10('./cs231n/datasets', train=True, download=True,\n",
        "                           transform=transform)\n",
        "loader_val = DataLoader(cifar10_val, batch_size=64, \n",
        "                        sampler=sampler.SubsetRandomSampler(range(NUM_TRAIN, 50000)))\n",
        "\n",
        "cifar10_test = dset.CIFAR10('./cs231n/datasets', train=False, download=True, \n",
        "                            transform=transform)\n",
        "loader_test = DataLoader(cifar10_test, batch_size=64)"
      ],
      "execution_count": 3,
      "outputs": [
        {
          "output_type": "stream",
          "text": [
            "\r0it [00:00, ?it/s]"
          ],
          "name": "stderr"
        },
        {
          "output_type": "stream",
          "text": [
            "Downloading https://www.cs.toronto.edu/~kriz/cifar-10-python.tar.gz to ./cs231n/datasets/cifar-10-python.tar.gz\n"
          ],
          "name": "stdout"
        },
        {
          "output_type": "stream",
          "text": [
            "170500096it [00:06, 26333066.07it/s]                               \n"
          ],
          "name": "stderr"
        },
        {
          "output_type": "stream",
          "text": [
            "Extracting ./cs231n/datasets/cifar-10-python.tar.gz to ./cs231n/datasets\n",
            "Files already downloaded and verified\n",
            "Files already downloaded and verified\n"
          ],
          "name": "stdout"
        }
      ]
    },
    {
      "cell_type": "code",
      "metadata": {
        "id": "6QZaAfD2i7wy",
        "colab_type": "code",
        "outputId": "104f451f-e54b-4f62-f425-d55405d5bce1",
        "colab": {
          "base_uri": "https://localhost:8080/",
          "height": 34
        }
      },
      "source": [
        "USE_GPU = True\n",
        "\n",
        "dtype = torch.float32 # we will be using float throughout this tutorial\n",
        "\n",
        "if USE_GPU and torch.cuda.is_available():\n",
        "    device = torch.device('cuda')\n",
        "else:\n",
        "    device = torch.device('cpu')\n",
        "\n",
        "# Constant to control how frequently we print train loss\n",
        "print_every = 100\n",
        "\n",
        "print('using device:', device)"
      ],
      "execution_count": 4,
      "outputs": [
        {
          "output_type": "stream",
          "text": [
            "using device: cuda\n"
          ],
          "name": "stdout"
        }
      ]
    },
    {
      "cell_type": "code",
      "metadata": {
        "id": "NnlReM8yi7vA",
        "colab_type": "code",
        "outputId": "db6e9c26-1dad-4353-a08a-d3998f07cac4",
        "colab": {
          "base_uri": "https://localhost:8080/",
          "height": 187
        }
      },
      "source": [
        "def flatten(x):\n",
        "    N = x.shape[0] # read in N, C, H, W\n",
        "    return x.view(N, -1)  # \"flatten\" the C * H * W values into a single vector per image\n",
        "\n",
        "def test_flatten():\n",
        "    x = torch.arange(12).view(2, 1, 3, 2)\n",
        "    print('Before flattening: ', x)\n",
        "    print('After flattening: ', flatten(x))\n",
        "\n",
        "test_flatten()"
      ],
      "execution_count": 5,
      "outputs": [
        {
          "output_type": "stream",
          "text": [
            "Before flattening:  tensor([[[[ 0,  1],\n",
            "          [ 2,  3],\n",
            "          [ 4,  5]]],\n",
            "\n",
            "\n",
            "        [[[ 6,  7],\n",
            "          [ 8,  9],\n",
            "          [10, 11]]]])\n",
            "After flattening:  tensor([[ 0,  1,  2,  3,  4,  5],\n",
            "        [ 6,  7,  8,  9, 10, 11]])\n"
          ],
          "name": "stdout"
        }
      ]
    },
    {
      "cell_type": "code",
      "metadata": {
        "id": "IRHFz7oii7rf",
        "colab_type": "code",
        "outputId": "3d766a6b-c87a-49b8-ef1d-a9d16e23a17a",
        "colab": {
          "base_uri": "https://localhost:8080/",
          "height": 34
        }
      },
      "source": [
        "import torch.nn.functional as F  # useful stateless functions\n",
        "\n",
        "def two_layer_fc(x, params):\n",
        "    \"\"\"\n",
        "    A fully-connected neural networks; the architecture is:\n",
        "    NN is fully connected -> ReLU -> fully connected layer.\n",
        "    Note that this function only defines the forward pass; \n",
        "    PyTorch will take care of the backward pass for us.\n",
        "    \n",
        "    The input to the network will be a minibatch of data, of shape\n",
        "    (N, d1, ..., dM) where d1 * ... * dM = D. The hidden layer will have H units,\n",
        "    and the output layer will produce scores for C classes.\n",
        "    \n",
        "    Inputs:\n",
        "    - x: A PyTorch Tensor of shape (N, d1, ..., dM) giving a minibatch of\n",
        "      input data.\n",
        "    - params: A list [w1, w2] of PyTorch Tensors giving weights for the network;\n",
        "      w1 has shape (D, H) and w2 has shape (H, C).\n",
        "    \n",
        "    Returns:\n",
        "    - scores: A PyTorch Tensor of shape (N, C) giving classification scores for\n",
        "      the input data x.\n",
        "    \"\"\"\n",
        "    # first we flatten the image\n",
        "    x = flatten(x)  # shape: [batch_size, C x H x W]\n",
        "    \n",
        "    w1, w2 = params\n",
        "    \n",
        "    # Forward pass: compute predicted y using operations on Tensors. Since w1 and\n",
        "    # w2 have requires_grad=True, operations involving these Tensors will cause\n",
        "    # PyTorch to build a computational graph, allowing automatic computation of\n",
        "    # gradients. Since we are no longer implementing the backward pass by hand we\n",
        "    # don't need to keep references to intermediate values.\n",
        "    # you can also use `.clamp(min=0)`, equivalent to F.relu()\n",
        "    x = F.relu(x.mm(w1))\n",
        "    x = x.mm(w2)\n",
        "    return x\n",
        "    \n",
        "\n",
        "def two_layer_fc_test():\n",
        "    hidden_layer_size = 42\n",
        "    x = torch.zeros((64, 50), dtype=dtype)  # minibatch size 64, feature dimension 50\n",
        "    w1 = torch.zeros((50, hidden_layer_size), dtype=dtype)\n",
        "    w2 = torch.zeros((hidden_layer_size, 10), dtype=dtype)\n",
        "    scores = two_layer_fc(x, [w1, w2])\n",
        "    print(scores.size())  # you should see [64, 10]\n",
        "\n",
        "two_layer_fc_test()"
      ],
      "execution_count": 6,
      "outputs": [
        {
          "output_type": "stream",
          "text": [
            "torch.Size([64, 10])\n"
          ],
          "name": "stdout"
        }
      ]
    },
    {
      "cell_type": "code",
      "metadata": {
        "id": "nAmSAiTOi7pc",
        "colab_type": "code",
        "colab": {}
      },
      "source": [
        "def three_layer_convnet(x, params):\n",
        "    \"\"\"\n",
        "    Performs the forward pass of a three-layer convolutional network with the\n",
        "    architecture defined above.\n",
        "\n",
        "    Inputs:\n",
        "    - x: A PyTorch Tensor of shape (N, 3, H, W) giving a minibatch of images\n",
        "    - params: A list of PyTorch Tensors giving the weights and biases for the\n",
        "      network; should contain the following:\n",
        "      - conv_w1: PyTorch Tensor of shape (channel_1, 3, KH1, KW1) giving weights\n",
        "        for the first convolutional layer\n",
        "      - conv_b1: PyTorch Tensor of shape (channel_1,) giving biases for the first\n",
        "        convolutional layer\n",
        "      - conv_w2: PyTorch Tensor of shape (channel_2, channel_1, KH2, KW2) giving\n",
        "        weights for the second convolutional layer\n",
        "      - conv_b2: PyTorch Tensor of shape (channel_2,) giving biases for the second\n",
        "        convolutional layer\n",
        "      - fc_w: PyTorch Tensor giving weights for the fully-connected layer. Can you\n",
        "        figure out what the shape should be?\n",
        "      - fc_b: PyTorch Tensor giving biases for the fully-connected layer. Can you\n",
        "        figure out what the shape should be?\n",
        "    \n",
        "    Returns:\n",
        "    - scores: PyTorch Tensor of shape (N, C) giving classification scores for x\n",
        "    \"\"\"\n",
        "    conv_w1, conv_b1, conv_w2, conv_b2, fc_w, fc_b = params\n",
        "    scores = None\n",
        "    ################################################################################\n",
        "    # TODO: Implement the forward pass for the three-layer ConvNet.                #\n",
        "    ################################################################################\n",
        "    # *****START OF YOUR CODE (DO NOT DELETE/MODIFY THIS LINE)*****\n",
        "\n",
        "    conv1 = F.conv2d(x, weight=conv_w1, bias=conv_b1, padding=2)\n",
        "    relu1 = F.relu(conv1)\n",
        "    conv2 = F.conv2d(relu1, weight=conv_w2, bias=conv_b2, padding=1)\n",
        "    relu2 = F.relu(conv2)\n",
        "    relu2_flat = flatten(relu2)\n",
        "    scores = relu2_flat.mm(fc_w) + fc_b\n",
        "\n",
        "    # *****END OF YOUR CODE (DO NOT DELETE/MODIFY THIS LINE)*****\n",
        "    ################################################################################\n",
        "    #                                 END OF YOUR CODE                             #\n",
        "    ################################################################################\n",
        "    return scores"
      ],
      "execution_count": 0,
      "outputs": []
    },
    {
      "cell_type": "code",
      "metadata": {
        "id": "MmYtaIfzi7ma",
        "colab_type": "code",
        "outputId": "77b4c814-f214-470f-c45b-e81cfdc4111e",
        "colab": {
          "base_uri": "https://localhost:8080/",
          "height": 34
        }
      },
      "source": [
        "def three_layer_convnet_test():\n",
        "    x = torch.zeros((64, 3, 32, 32), dtype=dtype)  # minibatch size 64, image size [3, 32, 32]\n",
        "\n",
        "    conv_w1 = torch.zeros((6, 3, 5, 5), dtype=dtype)  # [out_channel, in_channel, kernel_H, kernel_W]\n",
        "    conv_b1 = torch.zeros((6,))  # out_channel\n",
        "    conv_w2 = torch.zeros((9, 6, 3, 3), dtype=dtype)  # [out_channel, in_channel, kernel_H, kernel_W]\n",
        "    conv_b2 = torch.zeros((9,))  # out_channel\n",
        "\n",
        "    # you must calculate the shape of the tensor after two conv layers, before the fully-connected layer\n",
        "    fc_w = torch.zeros((9 * 32 * 32, 10))\n",
        "    fc_b = torch.zeros(10)\n",
        "\n",
        "    scores = three_layer_convnet(x, [conv_w1, conv_b1, conv_w2, conv_b2, fc_w, fc_b])\n",
        "    print(scores.size())  # you should see [64, 10]\n",
        "three_layer_convnet_test()"
      ],
      "execution_count": 8,
      "outputs": [
        {
          "output_type": "stream",
          "text": [
            "torch.Size([64, 10])\n"
          ],
          "name": "stdout"
        }
      ]
    },
    {
      "cell_type": "code",
      "metadata": {
        "id": "DPpf8Pboi7jQ",
        "colab_type": "code",
        "outputId": "bb2d7394-f1c5-4e63-acc5-1ae3badf3429",
        "colab": {
          "base_uri": "https://localhost:8080/",
          "height": 85
        }
      },
      "source": [
        "def random_weight(shape):\n",
        "    \"\"\"\n",
        "    Create random Tensors for weights; setting requires_grad=True means that we\n",
        "    want to compute gradients for these Tensors during the backward pass.\n",
        "    We use Kaiming normalization: sqrt(2 / fan_in)\n",
        "    \"\"\"\n",
        "    if len(shape) == 2:  # FC weight\n",
        "        fan_in = shape[0]\n",
        "    else:\n",
        "        fan_in = np.prod(shape[1:]) # conv weight [out_channel, in_channel, kH, kW]\n",
        "    # randn is standard normal distribution generator. \n",
        "    w = torch.randn(shape, device=device, dtype=dtype) * np.sqrt(2. / fan_in)\n",
        "    w.requires_grad = True\n",
        "    return w\n",
        "\n",
        "def zero_weight(shape):\n",
        "    return torch.zeros(shape, device=device, dtype=dtype, requires_grad=True)\n",
        "\n",
        "# create a weight of shape [3 x 5]\n",
        "# you should see the type `torch.cuda.FloatTensor` if you use GPU. \n",
        "# Otherwise it should be `torch.FloatTensor`\n",
        "random_weight((3, 5))"
      ],
      "execution_count": 40,
      "outputs": [
        {
          "output_type": "execute_result",
          "data": {
            "text/plain": [
              "tensor([[ 0.6535, -0.4125, -1.1072,  1.7108,  1.2386],\n",
              "        [ 0.5781,  1.3420, -0.3716, -2.6186,  0.6126],\n",
              "        [ 0.2588, -0.0998, -0.0874, -0.3262, -1.2453]], device='cuda:0',\n",
              "       requires_grad=True)"
            ]
          },
          "metadata": {
            "tags": []
          },
          "execution_count": 40
        }
      ]
    },
    {
      "cell_type": "code",
      "metadata": {
        "id": "8QE2Oh8Ii7hM",
        "colab_type": "code",
        "colab": {}
      },
      "source": [
        "def check_accuracy_part2(loader, model_fn, params):\n",
        "    \"\"\"\n",
        "    Check the accuracy of a classification model.\n",
        "    \n",
        "    Inputs:\n",
        "    - loader: A DataLoader for the data split we want to check\n",
        "    - model_fn: A function that performs the forward pass of the model,\n",
        "      with the signature scores = model_fn(x, params)\n",
        "    - params: List of PyTorch Tensors giving parameters of the model\n",
        "    \n",
        "    Returns: Nothing, but prints the accuracy of the model\n",
        "    \"\"\"\n",
        "    split = 'val' if loader.dataset.train else 'test'\n",
        "    print('Checking accuracy on the %s set' % split)\n",
        "    num_correct, num_samples = 0, 0\n",
        "    with torch.no_grad():\n",
        "        for x, y in loader:\n",
        "            x = x.to(device=device, dtype=dtype)  # move to device, e.g. GPU\n",
        "            y = y.to(device=device, dtype=torch.int64)\n",
        "            scores = model_fn(x, params)\n",
        "            _, preds = scores.max(1)\n",
        "            num_correct += (preds == y).sum()\n",
        "            num_samples += preds.size(0)\n",
        "        acc = float(num_correct) / num_samples\n",
        "        print('Got %d / %d correct (%.2f%%)' % (num_correct, num_samples, 100 * acc))"
      ],
      "execution_count": 0,
      "outputs": []
    },
    {
      "cell_type": "code",
      "metadata": {
        "id": "X9ExUALci7ft",
        "colab_type": "code",
        "colab": {}
      },
      "source": [
        "def train_part2(model_fn, params, learning_rate):\n",
        "    \"\"\"\n",
        "    Train a model on CIFAR-10.\n",
        "    \n",
        "    Inputs:\n",
        "    - model_fn: A Python function that performs the forward pass of the model.\n",
        "      It should have the signature scores = model_fn(x, params) where x is a\n",
        "      PyTorch Tensor of image data, params is a list of PyTorch Tensors giving\n",
        "      model weights, and scores is a PyTorch Tensor of shape (N, C) giving\n",
        "      scores for the elements in x.\n",
        "    - params: List of PyTorch Tensors giving weights for the model\n",
        "    - learning_rate: Python scalar giving the learning rate to use for SGD\n",
        "    \n",
        "    Returns: Nothing\n",
        "    \"\"\"\n",
        "    for t, (x, y) in enumerate(loader_train):\n",
        "        # Move the data to the proper device (GPU or CPU)\n",
        "        x = x.to(device=device, dtype=dtype)\n",
        "        y = y.to(device=device, dtype=torch.long)\n",
        "\n",
        "        # Forward pass: compute scores and loss\n",
        "        scores = model_fn(x, params)\n",
        "        loss = F.cross_entropy(scores, y)\n",
        "\n",
        "        # Backward pass: PyTorch figures out which Tensors in the computational\n",
        "        # graph has requires_grad=True and uses backpropagation to compute the\n",
        "        # gradient of the loss with respect to these Tensors, and stores the\n",
        "        # gradients in the .grad attribute of each Tensor.\n",
        "        loss.backward()\n",
        "\n",
        "        # Update parameters. We don't want to backpropagate through the\n",
        "        # parameter updates, so we scope the updates under a torch.no_grad()\n",
        "        # context manager to prevent a computational graph from being built.\n",
        "        with torch.no_grad():\n",
        "            for w in params:\n",
        "                w -= learning_rate * w.grad\n",
        "\n",
        "                # Manually zero the gradients after running the backward pass\n",
        "                w.grad.zero_()\n",
        "\n",
        "        if t % print_every == 0:\n",
        "            print('Iteration %d, loss = %.4f' % (t, loss.item()))\n",
        "            check_accuracy_part2(loader_val, model_fn, params)\n",
        "            print()"
      ],
      "execution_count": 0,
      "outputs": []
    },
    {
      "cell_type": "code",
      "metadata": {
        "id": "ARM-VIK8i7b2",
        "colab_type": "code",
        "outputId": "ac0346bd-e110-406f-dcbb-5585fd4403fe",
        "colab": {
          "base_uri": "https://localhost:8080/",
          "height": 561
        }
      },
      "source": [
        "hidden_layer_size = 4000\n",
        "learning_rate = 1e-2\n",
        "\n",
        "w1 = random_weight((3 * 32 * 32, hidden_layer_size))\n",
        "w2 = random_weight((hidden_layer_size, 10))\n",
        "\n",
        "train_part2(two_layer_fc, [w1, w2], learning_rate)"
      ],
      "execution_count": 12,
      "outputs": [
        {
          "output_type": "stream",
          "text": [
            "Iteration 0, loss = 3.5615\n",
            "Checking accuracy on the val set\n",
            "Got 156 / 1000 correct (15.60%)\n",
            "\n",
            "Iteration 100, loss = 2.3123\n",
            "Checking accuracy on the val set\n",
            "Got 364 / 1000 correct (36.40%)\n",
            "\n",
            "Iteration 200, loss = 2.1522\n",
            "Checking accuracy on the val set\n",
            "Got 371 / 1000 correct (37.10%)\n",
            "\n",
            "Iteration 300, loss = 2.1531\n",
            "Checking accuracy on the val set\n",
            "Got 394 / 1000 correct (39.40%)\n",
            "\n",
            "Iteration 400, loss = 1.6494\n",
            "Checking accuracy on the val set\n",
            "Got 409 / 1000 correct (40.90%)\n",
            "\n",
            "Iteration 500, loss = 1.6715\n",
            "Checking accuracy on the val set\n",
            "Got 425 / 1000 correct (42.50%)\n",
            "\n",
            "Iteration 600, loss = 1.8546\n",
            "Checking accuracy on the val set\n",
            "Got 407 / 1000 correct (40.70%)\n",
            "\n",
            "Iteration 700, loss = 1.7497\n",
            "Checking accuracy on the val set\n",
            "Got 463 / 1000 correct (46.30%)\n",
            "\n"
          ],
          "name": "stdout"
        }
      ]
    },
    {
      "cell_type": "code",
      "metadata": {
        "id": "EbzZtVXQi7ZQ",
        "colab_type": "code",
        "outputId": "e6a60937-4ac7-40da-ba7a-0562dbb26ca6",
        "colab": {
          "base_uri": "https://localhost:8080/",
          "height": 561
        }
      },
      "source": [
        "learning_rate = 3e-3\n",
        "\n",
        "channel_1 = 32\n",
        "channel_2 = 16\n",
        "\n",
        "conv_w1 = None\n",
        "conv_b1 = None\n",
        "conv_w2 = None\n",
        "conv_b2 = None\n",
        "fc_w = None\n",
        "fc_b = None\n",
        "\n",
        "################################################################################\n",
        "# TODO: Initialize the parameters of a three-layer ConvNet.                    #\n",
        "################################################################################\n",
        "# *****START OF YOUR CODE (DO NOT DELETE/MODIFY THIS LINE)*****\n",
        "\n",
        "conv_w1 = random_weight((channel_1, 3, 5, 5))\n",
        "conv_w2 = random_weight((channel_2, 32, 3, 3))\n",
        "fc_w =  random_weight((channel_2*32*32, 10))\n",
        "\n",
        "conv_b1 = zero_weight((channel_1, ))\n",
        "conv_b2 = zero_weight((channel_2,))\n",
        "fc_b = zero_weight((10, ))\n",
        "\n",
        "\n",
        "# *****END OF YOUR CODE (DO NOT DELETE/MODIFY THIS LINE)*****\n",
        "################################################################################\n",
        "#                                 END OF YOUR CODE                             #\n",
        "################################################################################\n",
        "\n",
        "params = [conv_w1, conv_b1, conv_w2, conv_b2, fc_w, fc_b]\n",
        "train_part2(three_layer_convnet, params, learning_rate)"
      ],
      "execution_count": 13,
      "outputs": [
        {
          "output_type": "stream",
          "text": [
            "Iteration 0, loss = 2.9923\n",
            "Checking accuracy on the val set\n",
            "Got 117 / 1000 correct (11.70%)\n",
            "\n",
            "Iteration 100, loss = 1.9443\n",
            "Checking accuracy on the val set\n",
            "Got 337 / 1000 correct (33.70%)\n",
            "\n",
            "Iteration 200, loss = 1.7872\n",
            "Checking accuracy on the val set\n",
            "Got 376 / 1000 correct (37.60%)\n",
            "\n",
            "Iteration 300, loss = 1.7520\n",
            "Checking accuracy on the val set\n",
            "Got 412 / 1000 correct (41.20%)\n",
            "\n",
            "Iteration 400, loss = 1.6345\n",
            "Checking accuracy on the val set\n",
            "Got 440 / 1000 correct (44.00%)\n",
            "\n",
            "Iteration 500, loss = 1.7493\n",
            "Checking accuracy on the val set\n",
            "Got 447 / 1000 correct (44.70%)\n",
            "\n",
            "Iteration 600, loss = 1.5021\n",
            "Checking accuracy on the val set\n",
            "Got 466 / 1000 correct (46.60%)\n",
            "\n",
            "Iteration 700, loss = 1.5924\n",
            "Checking accuracy on the val set\n",
            "Got 475 / 1000 correct (47.50%)\n",
            "\n"
          ],
          "name": "stdout"
        }
      ]
    },
    {
      "cell_type": "code",
      "metadata": {
        "id": "dluw6_V9i7XY",
        "colab_type": "code",
        "colab": {
          "base_uri": "https://localhost:8080/",
          "height": 34
        },
        "outputId": "a7c67025-5e8c-4463-ca4c-fd55ca8cb743"
      },
      "source": [
        "class TwoLayerFC(nn.Module):\n",
        "    def __init__(self, input_size, hidden_size, num_classes):\n",
        "        super().__init__()\n",
        "        # assign layer objects to class attributes\n",
        "        self.fc1 = nn.Linear(input_size, hidden_size)\n",
        "        # nn.init package contains convenient initialization methods\n",
        "        # http://pytorch.org/docs/master/nn.html#torch-nn-init \n",
        "        nn.init.kaiming_normal_(self.fc1.weight)\n",
        "        self.fc2 = nn.Linear(hidden_size, num_classes)\n",
        "        nn.init.kaiming_normal_(self.fc2.weight)\n",
        "    \n",
        "    def forward(self, x):\n",
        "        # forward always defines connectivity\n",
        "        x = flatten(x)\n",
        "        scores = self.fc2(F.relu(self.fc1(x)))\n",
        "        return scores\n",
        "\n",
        "def test_TwoLayerFC():\n",
        "    input_size = 50\n",
        "    x = torch.zeros((64, input_size), dtype=dtype)  # minibatch size 64, feature dimension 50\n",
        "    model = TwoLayerFC(input_size, 42, 10)\n",
        "    scores = model(x)\n",
        "    print(scores.size())  # you should see [64, 10]\n",
        "test_TwoLayerFC()"
      ],
      "execution_count": 14,
      "outputs": [
        {
          "output_type": "stream",
          "text": [
            "torch.Size([64, 10])\n"
          ],
          "name": "stdout"
        }
      ]
    },
    {
      "cell_type": "code",
      "metadata": {
        "id": "B90l2-hoi7UF",
        "colab_type": "code",
        "colab": {
          "base_uri": "https://localhost:8080/",
          "height": 34
        },
        "outputId": "c6a42083-692c-4128-fd6c-aed253f61e96"
      },
      "source": [
        "class ThreeLayerConvNet(nn.Module):\n",
        "    def __init__(self, in_channel, channel_1, channel_2, num_classes):\n",
        "        super().__init__()\n",
        "        ########################################################################\n",
        "        # TODO: Set up the layers you need for a three-layer ConvNet with the  #\n",
        "        # architecture defined above.                                          #\n",
        "        ########################################################################\n",
        "        # *****START OF YOUR CODE (DO NOT DELETE/MODIFY THIS LINE)*****\n",
        "        \n",
        "        self.conv1 = nn.Conv2d(in_channel, channel_1, kernel_size= 5, padding=2)\n",
        "        nn.init.kaiming_normal_(self.conv1.weight)\n",
        "        nn.init.constant_(self.conv1.bias, 0)\n",
        "        \n",
        "        self.conv2 = nn.Conv2d(channel_1, channel_2, kernel_size= 3, padding=1)\n",
        "        nn.init.kaiming_normal_(self.conv2.weight)\n",
        "        nn.init.constant_(self.conv2.bias, 0)\n",
        "        \n",
        "        self.fc = nn.Linear(channel_2*32*32, num_classes)\n",
        "        nn.init.kaiming_normal_(self.fc.weight)\n",
        "        nn.init.constant_(self.fc.bias, 0)\n",
        "\n",
        "        # *****END OF YOUR CODE (DO NOT DELETE/MODIFY THIS LINE)*****\n",
        "        ########################################################################\n",
        "        #                          END OF YOUR CODE                            #       \n",
        "        ########################################################################\n",
        "\n",
        "    def forward(self, x):\n",
        "        scores = None\n",
        "        ########################################################################\n",
        "        # TODO: Implement the forward function for a 3-layer ConvNet. you      #\n",
        "        # should use the layers you defined in __init__ and specify the        #\n",
        "        # connectivity of those layers in forward()                            #\n",
        "        ########################################################################\n",
        "        # *****START OF YOUR CODE (DO NOT DELETE/MODIFY THIS LINE)*****\n",
        "        \n",
        "        scores = self.fc(flatten(F.relu(self.conv2(F.relu(self.conv1(x))))))\n",
        "\n",
        "        # *****END OF YOUR CODE (DO NOT DELETE/MODIFY THIS LINE)*****\n",
        "        ########################################################################\n",
        "        #                             END OF YOUR CODE                         #\n",
        "        ########################################################################\n",
        "        return scores\n",
        "\n",
        "\n",
        "def test_ThreeLayerConvNet():\n",
        "    x = torch.zeros((64, 3, 32, 32), dtype=dtype)  # minibatch size 64, image size [3, 32, 32]\n",
        "    model = ThreeLayerConvNet(in_channel=3, channel_1=12, channel_2=8, num_classes=10)\n",
        "    scores = model(x)\n",
        "    print(scores.size())  # you should see [64, 10]\n",
        "test_ThreeLayerConvNet()"
      ],
      "execution_count": 18,
      "outputs": [
        {
          "output_type": "stream",
          "text": [
            "torch.Size([64, 10])\n"
          ],
          "name": "stdout"
        }
      ]
    },
    {
      "cell_type": "code",
      "metadata": {
        "id": "eG7RvchHi7RP",
        "colab_type": "code",
        "colab": {}
      },
      "source": [
        "def check_accuracy_part34(loader, model):\n",
        "    if loader.dataset.train:\n",
        "        print('Checking accuracy on validation set')\n",
        "    else:\n",
        "        print('Checking accuracy on test set')   \n",
        "    num_correct = 0\n",
        "    num_samples = 0\n",
        "    model.eval()  # set model to evaluation mode\n",
        "    with torch.no_grad():\n",
        "        for x, y in loader:\n",
        "            x = x.to(device=device, dtype=dtype)  # move to device, e.g. GPU\n",
        "            y = y.to(device=device, dtype=torch.long)\n",
        "            scores = model(x)\n",
        "            _, preds = scores.max(1)\n",
        "            num_correct += (preds == y).sum()\n",
        "            num_samples += preds.size(0)\n",
        "        acc = float(num_correct) / num_samples\n",
        "        print('Got %d / %d correct (%.2f)' % (num_correct, num_samples, 100 * acc))"
      ],
      "execution_count": 0,
      "outputs": []
    },
    {
      "cell_type": "code",
      "metadata": {
        "id": "HJwxxEBQi7P4",
        "colab_type": "code",
        "colab": {}
      },
      "source": [
        "def train_part34(model, optimizer, epochs=1):\n",
        "    \"\"\"\n",
        "    Train a model on CIFAR-10 using the PyTorch Module API.\n",
        "    \n",
        "    Inputs:\n",
        "    - model: A PyTorch Module giving the model to train.\n",
        "    - optimizer: An Optimizer object we will use to train the model\n",
        "    - epochs: (Optional) A Python integer giving the number of epochs to train for\n",
        "    \n",
        "    Returns: Nothing, but prints model accuracies during training.\n",
        "    \"\"\"\n",
        "    model = model.to(device=device)  # move the model parameters to CPU/GPU\n",
        "    for e in range(epochs):\n",
        "        for t, (x, y) in enumerate(loader_train):\n",
        "            model.train()  # put model to training mode\n",
        "            x = x.to(device=device, dtype=dtype)  # move to device, e.g. GPU\n",
        "            y = y.to(device=device, dtype=torch.long)\n",
        "\n",
        "            scores = model(x)\n",
        "            loss = F.cross_entropy(scores, y)\n",
        "\n",
        "            # Zero out all of the gradients for the variables which the optimizer\n",
        "            # will update.\n",
        "            optimizer.zero_grad()\n",
        "\n",
        "            # This is the backwards pass: compute the gradient of the loss with\n",
        "            # respect to each  parameter of the model.\n",
        "            loss.backward()\n",
        "\n",
        "            # Actually update the parameters of the model using the gradients\n",
        "            # computed by the backwards pass.\n",
        "            optimizer.step()\n",
        "\n",
        "            if t % print_every == 0:\n",
        "                print('Iteration %d, loss = %.4f' % (t, loss.item()))\n",
        "                check_accuracy_part34(loader_val, model)\n",
        "                print()"
      ],
      "execution_count": 0,
      "outputs": []
    },
    {
      "cell_type": "code",
      "metadata": {
        "id": "p9TSxd2Ii7Lf",
        "colab_type": "code",
        "colab": {
          "base_uri": "https://localhost:8080/",
          "height": 561
        },
        "outputId": "252b693a-a6ef-4762-b5be-d2875365f9fe"
      },
      "source": [
        "hidden_layer_size = 4000\n",
        "learning_rate = 1e-2\n",
        "model = TwoLayerFC(3 * 32 * 32, hidden_layer_size, 10)\n",
        "optimizer = optim.SGD(model.parameters(), lr=learning_rate)\n",
        "\n",
        "train_part34(model, optimizer)"
      ],
      "execution_count": 22,
      "outputs": [
        {
          "output_type": "stream",
          "text": [
            "Iteration 0, loss = 2.8843\n",
            "Checking accuracy on validation set\n",
            "Got 129 / 1000 correct (12.90)\n",
            "\n",
            "Iteration 100, loss = 2.2459\n",
            "Checking accuracy on validation set\n",
            "Got 287 / 1000 correct (28.70)\n",
            "\n",
            "Iteration 200, loss = 1.9302\n",
            "Checking accuracy on validation set\n",
            "Got 357 / 1000 correct (35.70)\n",
            "\n",
            "Iteration 300, loss = 2.3197\n",
            "Checking accuracy on validation set\n",
            "Got 394 / 1000 correct (39.40)\n",
            "\n",
            "Iteration 400, loss = 1.9075\n",
            "Checking accuracy on validation set\n",
            "Got 415 / 1000 correct (41.50)\n",
            "\n",
            "Iteration 500, loss = 2.1925\n",
            "Checking accuracy on validation set\n",
            "Got 362 / 1000 correct (36.20)\n",
            "\n",
            "Iteration 600, loss = 1.6424\n",
            "Checking accuracy on validation set\n",
            "Got 452 / 1000 correct (45.20)\n",
            "\n",
            "Iteration 700, loss = 1.5363\n",
            "Checking accuracy on validation set\n",
            "Got 408 / 1000 correct (40.80)\n",
            "\n"
          ],
          "name": "stdout"
        }
      ]
    },
    {
      "cell_type": "code",
      "metadata": {
        "id": "IB1XBvJni7JK",
        "colab_type": "code",
        "colab": {
          "base_uri": "https://localhost:8080/",
          "height": 561
        },
        "outputId": "de40eba6-2da6-4f27-e13b-e98f42e961fb"
      },
      "source": [
        "learning_rate = 3e-3\n",
        "channel_1 = 32\n",
        "channel_2 = 16\n",
        "\n",
        "model = None\n",
        "optimizer = None\n",
        "################################################################################\n",
        "# TODO: Instantiate your ThreeLayerConvNet model and a corresponding optimizer #\n",
        "################################################################################\n",
        "# *****START OF YOUR CODE (DO NOT DELETE/MODIFY THIS LINE)*****\n",
        "\n",
        "model = ThreeLayerConvNet(3, channel_1, channel_2, 10)\n",
        "optimizer = optim.SGD(model.parameters(), lr=learning_rate)\n",
        "\n",
        "# *****END OF YOUR CODE (DO NOT DELETE/MODIFY THIS LINE)*****\n",
        "################################################################################\n",
        "#                                 END OF YOUR CODE                             \n",
        "################################################################################\n",
        "\n",
        "train_part34(model, optimizer)"
      ],
      "execution_count": 27,
      "outputs": [
        {
          "output_type": "stream",
          "text": [
            "Iteration 0, loss = 3.3452\n",
            "Checking accuracy on validation set\n",
            "Got 168 / 1000 correct (16.80)\n",
            "\n",
            "Iteration 100, loss = 1.9531\n",
            "Checking accuracy on validation set\n",
            "Got 362 / 1000 correct (36.20)\n",
            "\n",
            "Iteration 200, loss = 1.6571\n",
            "Checking accuracy on validation set\n",
            "Got 416 / 1000 correct (41.60)\n",
            "\n",
            "Iteration 300, loss = 1.7039\n",
            "Checking accuracy on validation set\n",
            "Got 429 / 1000 correct (42.90)\n",
            "\n",
            "Iteration 400, loss = 1.5227\n",
            "Checking accuracy on validation set\n",
            "Got 459 / 1000 correct (45.90)\n",
            "\n",
            "Iteration 500, loss = 1.4631\n",
            "Checking accuracy on validation set\n",
            "Got 465 / 1000 correct (46.50)\n",
            "\n",
            "Iteration 600, loss = 1.5926\n",
            "Checking accuracy on validation set\n",
            "Got 478 / 1000 correct (47.80)\n",
            "\n",
            "Iteration 700, loss = 1.3189\n",
            "Checking accuracy on validation set\n",
            "Got 472 / 1000 correct (47.20)\n",
            "\n"
          ],
          "name": "stdout"
        }
      ]
    },
    {
      "cell_type": "code",
      "metadata": {
        "id": "RzA31sf2i7Gr",
        "colab_type": "code",
        "colab": {
          "base_uri": "https://localhost:8080/",
          "height": 561
        },
        "outputId": "584e8de4-7137-496d-f0b8-921b84a22c17"
      },
      "source": [
        "# We need to wrap `flatten` function in a module in order to stack it\n",
        "# in nn.Sequential\n",
        "class Flatten(nn.Module):\n",
        "    def forward(self, x):\n",
        "        return flatten(x)\n",
        "\n",
        "hidden_layer_size = 4000\n",
        "learning_rate = 1e-2\n",
        "\n",
        "model = nn.Sequential(\n",
        "    Flatten(),\n",
        "    nn.Linear(3 * 32 * 32, hidden_layer_size),\n",
        "    nn.ReLU(),\n",
        "    nn.Linear(hidden_layer_size, 10),\n",
        ")\n",
        "\n",
        "# you can use Nesterov momentum in optim.SGD\n",
        "optimizer = optim.SGD(model.parameters(), lr=learning_rate,\n",
        "                     momentum=0.9, nesterov=True)\n",
        "\n",
        "train_part34(model, optimizer)"
      ],
      "execution_count": 28,
      "outputs": [
        {
          "output_type": "stream",
          "text": [
            "Iteration 0, loss = 2.3589\n",
            "Checking accuracy on validation set\n",
            "Got 152 / 1000 correct (15.20)\n",
            "\n",
            "Iteration 100, loss = 1.8485\n",
            "Checking accuracy on validation set\n",
            "Got 376 / 1000 correct (37.60)\n",
            "\n",
            "Iteration 200, loss = 1.9689\n",
            "Checking accuracy on validation set\n",
            "Got 428 / 1000 correct (42.80)\n",
            "\n",
            "Iteration 300, loss = 1.7258\n",
            "Checking accuracy on validation set\n",
            "Got 424 / 1000 correct (42.40)\n",
            "\n",
            "Iteration 400, loss = 1.7007\n",
            "Checking accuracy on validation set\n",
            "Got 419 / 1000 correct (41.90)\n",
            "\n",
            "Iteration 500, loss = 1.6817\n",
            "Checking accuracy on validation set\n",
            "Got 419 / 1000 correct (41.90)\n",
            "\n",
            "Iteration 600, loss = 2.2603\n",
            "Checking accuracy on validation set\n",
            "Got 427 / 1000 correct (42.70)\n",
            "\n",
            "Iteration 700, loss = 1.4173\n",
            "Checking accuracy on validation set\n",
            "Got 439 / 1000 correct (43.90)\n",
            "\n"
          ],
          "name": "stdout"
        }
      ]
    },
    {
      "cell_type": "code",
      "metadata": {
        "id": "2sjNguoNSCcY",
        "colab_type": "code",
        "colab": {}
      },
      "source": [
        "def kaiming_normal(shape):\n",
        "    \"\"\"\n",
        "    Create random Tensors for weights; setting requires_grad=True means that we\n",
        "    want to compute gradients for these Tensors during the backward pass.\n",
        "    We use Kaiming normalization: sqrt(2 / fan_in)\n",
        "    \"\"\"\n",
        "    if len(shape) == 2:  # FC weight\n",
        "        fan_in = shape[1]  # different from `random_weight()`, as weight for nn.Linear in pytorch is of shape: [out_feature, in_feature]\n",
        "    else:\n",
        "        fan_in = np.prod(shape[1:]) # conv weight [out_channel, in_channel, kH, kW]\n",
        "    # randn is standard normal distribution generator. \n",
        "    w = torch.randn(shape, device=device, dtype=dtype) * np.sqrt(2. / fan_in)\n",
        "    w.requires_grad = True\n",
        "    return w\n",
        "\n",
        "def xavier_normal(shape):\n",
        "    \"\"\"\n",
        "    Create random Tensors for weights; setting requires_grad=True means that we\n",
        "    want to compute gradients for these Tensors during the backward pass.\n",
        "    We use Xavier normalization: sqrt(2 / (fan_in + fan_out))\n",
        "    \"\"\"\n",
        "    if len(shape) == 2:  # FC weight\n",
        "        fan_in = shape[1]\n",
        "        fan_out = shape[0]\n",
        "    else:\n",
        "        fan_in = np.prod(shape[1:]) # conv weight [out_channel, in_channel, kH, kW]\n",
        "        fan_out = shape[0] * shape[2] * shape[3]\n",
        "    # randn is standard normal distribution generator. \n",
        "    w = torch.randn(shape, device=device, dtype=dtype) * np.sqrt(2. / (fan_in + fan_out))\n",
        "    w.requires_grad = True\n",
        "    return w"
      ],
      "execution_count": 0,
      "outputs": []
    },
    {
      "cell_type": "code",
      "metadata": {
        "id": "ZzsCmB8Oi7EJ",
        "colab_type": "code",
        "colab": {
          "base_uri": "https://localhost:8080/",
          "height": 561
        },
        "outputId": "5637b755-af31-4fd5-f573-b0f50d620bd7"
      },
      "source": [
        "channel_1 = 32\n",
        "channel_2 = 16\n",
        "learning_rate = 1e-2\n",
        "\n",
        "model = None\n",
        "optimizer = None\n",
        "\n",
        "################################################################################\n",
        "# TODO: Rewrite the 2-layer ConvNet with bias from Part III with the           #\n",
        "# Sequential API.                                                              #\n",
        "################################################################################\n",
        "# *****START OF YOUR CODE (DO NOT DELETE/MODIFY THIS LINE)*****\n",
        "\n",
        "class Flatten(nn.Module):\n",
        "    def forward(self, x):\n",
        "        return flatten(x)\n",
        "\n",
        "model = nn.Sequential(\n",
        "    nn.Conv2d(3, channel_1, kernel_size=5, padding=2),\n",
        "    nn.ReLU(),\n",
        "    nn.Conv2d(channel_1, channel_2, kernel_size=3, padding=1),\n",
        "    nn.ReLU(),\n",
        "    Flatten(),\n",
        "    nn.Linear(channel_2*32*32, 10),\n",
        ")\n",
        "\n",
        "optimizer = optim.SGD(model.parameters(), lr=learning_rate,\n",
        "                     momentum=0.9, nesterov=True)\n",
        "\n",
        "def init_weights(m):\n",
        "    if type(m) == nn.Conv2d or type(m) == nn.Linear:\n",
        "#         m.weight.data = random_weight(m.weight.size())\n",
        "#         m.weight.data = kaiming_normal(m.weight.size())\n",
        "         m.weight.data = xavier_normal(m.weight.size())\n",
        "         m.bias.data = zero_weight(m.bias.size())\n",
        "\n",
        "model.apply(init_weights)\n",
        "# *****END OF YOUR CODE (DO NOT DELETE/MODIFY THIS LINE)*****\n",
        "################################################################################\n",
        "#                                 END OF YOUR CODE                             \n",
        "################################################################################\n",
        "\n",
        "train_part34(model, optimizer)"
      ],
      "execution_count": 43,
      "outputs": [
        {
          "output_type": "stream",
          "text": [
            "Iteration 0, loss = 2.3564\n",
            "Checking accuracy on validation set\n",
            "Got 117 / 1000 correct (11.70)\n",
            "\n",
            "Iteration 100, loss = 1.6357\n",
            "Checking accuracy on validation set\n",
            "Got 435 / 1000 correct (43.50)\n",
            "\n",
            "Iteration 200, loss = 1.4084\n",
            "Checking accuracy on validation set\n",
            "Got 493 / 1000 correct (49.30)\n",
            "\n",
            "Iteration 300, loss = 1.3149\n",
            "Checking accuracy on validation set\n",
            "Got 508 / 1000 correct (50.80)\n",
            "\n",
            "Iteration 400, loss = 1.3064\n",
            "Checking accuracy on validation set\n",
            "Got 542 / 1000 correct (54.20)\n",
            "\n",
            "Iteration 500, loss = 1.2358\n",
            "Checking accuracy on validation set\n",
            "Got 552 / 1000 correct (55.20)\n",
            "\n",
            "Iteration 600, loss = 1.1600\n",
            "Checking accuracy on validation set\n",
            "Got 571 / 1000 correct (57.10)\n",
            "\n",
            "Iteration 700, loss = 1.3778\n",
            "Checking accuracy on validation set\n",
            "Got 585 / 1000 correct (58.50)\n",
            "\n"
          ],
          "name": "stdout"
        }
      ]
    },
    {
      "cell_type": "code",
      "metadata": {
        "id": "o-DYt9LeUBm9",
        "colab_type": "code",
        "colab": {
          "base_uri": "https://localhost:8080/",
          "height": 697
        },
        "outputId": "ea38484f-5a78-4513-b09c-6b7ff82794ce"
      },
      "source": [
        "################################################################################\n",
        "# TODO:                                                                        #         \n",
        "# Experiment with any architectures, optimizers, and hyperparameters.          #\n",
        "# Achieve AT LEAST 70% accuracy on the *validation set* within 10 epochs.      #\n",
        "#                                                                              #\n",
        "# Note that you can use the check_accuracy function to evaluate on either      #\n",
        "# the test set or the validation set, by passing either loader_test or         #\n",
        "# loader_val as the second argument to check_accuracy. You should not touch    #\n",
        "# the test set until you have finished your architecture and  hyperparameter   #\n",
        "# tuning, and only run the test set once at the end to report a final value.   #\n",
        "################################################################################\n",
        "model = None\n",
        "optimizer = None\n",
        "\n",
        "# *****START OF YOUR CODE (DO NOT DELETE/MODIFY THIS LINE)*****\n",
        "\n",
        "layer1 = nn.Sequential(                                 # (N, 16, 32, 32)\n",
        "    nn.Conv2d(3, 16, kernel_size=5, padding=2),\n",
        "    nn.BatchNorm2d(16),\n",
        "    nn.ReLU(),\n",
        "    nn.MaxPool2d(2)                                     # (N, 16, 16, 16)\n",
        ")\n",
        "\n",
        "layer2 = nn.Sequential(                                 # (N, 32, 16, 16)\n",
        "    nn.Conv2d(16, 32, kernel_size=3, padding=1),\n",
        "    nn.BatchNorm2d(32),\n",
        "    nn.ReLU(),\n",
        "    nn.MaxPool2d(2)                                     # (N, 32, 8, 8)\n",
        ")\n",
        "\n",
        "layer3 = nn.Sequential(                                 # (N, 64, 8, 8)\n",
        "    nn.Conv2d(32, 64, kernel_size=3, padding=1),\n",
        "    nn.BatchNorm2d(64),\n",
        "    nn.ReLU(),\n",
        "    nn.MaxPool2d(2)                                     # (N, 64, 4, 4)\n",
        ")\n",
        "\n",
        "layer4 = nn.Sequential(                                 # (N, 128, 4, 4)\n",
        "    nn.Conv2d(64, 128, kernel_size=3, padding=1),\n",
        "    nn.BatchNorm2d(128),\n",
        "    nn.ReLU(),\n",
        "    nn.MaxPool2d(2)                                     # (N, 128, 2, 2)\n",
        ")\n",
        "\n",
        "\n",
        "fc = nn.Linear(128*2*2, 10)\n",
        "\n",
        "model = nn.Sequential(\n",
        "    layer1,\n",
        "    layer2,\n",
        "    layer3,\n",
        "    layer4,\n",
        "    Flatten(),\n",
        "    fc\n",
        ")\n",
        "\n",
        "learning_rate = 1e-3\n",
        "\n",
        "optimizer = optim.Adam(model.parameters(), lr=learning_rate)\n",
        "\n",
        "# Print training status every epoch: set print_every to a large number\n",
        "print_every = 10000\n",
        "\n",
        "\n",
        "# *****END OF YOUR CODE (DO NOT DELETE/MODIFY THIS LINE)*****\n",
        "################################################################################\n",
        "#                                 END OF YOUR CODE                             \n",
        "################################################################################\n",
        "\n",
        "# You should get at least 70% accuracy\n",
        "train_part34(model, optimizer, epochs=10)"
      ],
      "execution_count": 57,
      "outputs": [
        {
          "output_type": "stream",
          "text": [
            "Iteration 0, loss = 2.5253\n",
            "Checking accuracy on validation set\n",
            "Got 128 / 1000 correct (12.80)\n",
            "\n",
            "Iteration 0, loss = 0.8065\n",
            "Checking accuracy on validation set\n",
            "Got 619 / 1000 correct (61.90)\n",
            "\n",
            "Iteration 0, loss = 0.7949\n",
            "Checking accuracy on validation set\n",
            "Got 703 / 1000 correct (70.30)\n",
            "\n",
            "Iteration 0, loss = 0.8200\n",
            "Checking accuracy on validation set\n",
            "Got 723 / 1000 correct (72.30)\n",
            "\n",
            "Iteration 0, loss = 0.5481\n",
            "Checking accuracy on validation set\n",
            "Got 732 / 1000 correct (73.20)\n",
            "\n",
            "Iteration 0, loss = 0.5000\n",
            "Checking accuracy on validation set\n",
            "Got 726 / 1000 correct (72.60)\n",
            "\n",
            "Iteration 0, loss = 0.5637\n",
            "Checking accuracy on validation set\n",
            "Got 737 / 1000 correct (73.70)\n",
            "\n",
            "Iteration 0, loss = 0.2928\n",
            "Checking accuracy on validation set\n",
            "Got 749 / 1000 correct (74.90)\n",
            "\n",
            "Iteration 0, loss = 0.1919\n",
            "Checking accuracy on validation set\n",
            "Got 748 / 1000 correct (74.80)\n",
            "\n",
            "Iteration 0, loss = 0.3124\n",
            "Checking accuracy on validation set\n",
            "Got 749 / 1000 correct (74.90)\n",
            "\n"
          ],
          "name": "stdout"
        }
      ]
    },
    {
      "cell_type": "code",
      "metadata": {
        "id": "y8CpxduMaaPd",
        "colab_type": "code",
        "colab": {
          "base_uri": "https://localhost:8080/",
          "height": 51
        },
        "outputId": "6a249cd8-f977-4ec0-a8df-3740ae40393e"
      },
      "source": [
        "best_model = model\n",
        "check_accuracy_part34(loader_test, best_model)"
      ],
      "execution_count": 64,
      "outputs": [
        {
          "output_type": "stream",
          "text": [
            "Checking accuracy on test set\n",
            "Got 7457 / 10000 correct (74.57)\n"
          ],
          "name": "stdout"
        }
      ]
    }
  ]
}