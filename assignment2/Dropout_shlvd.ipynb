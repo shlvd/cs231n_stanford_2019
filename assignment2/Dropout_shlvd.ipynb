{
  "nbformat": 4,
  "nbformat_minor": 0,
  "metadata": {
    "colab": {
      "name": "Dropout_shlvd.ipynb",
      "provenance": [],
      "collapsed_sections": []
    },
    "kernelspec": {
      "name": "python3",
      "display_name": "Python 3"
    }
  },
  "cells": [
    {
      "cell_type": "code",
      "metadata": {
        "id": "jDKsn7xRhC3C",
        "colab_type": "code",
        "colab": {
          "base_uri": "https://localhost:8080/",
          "height": 34
        },
        "outputId": "17b52885-6067-4991-c00f-276fd837cb96"
      },
      "source": [
        "cd /content"
      ],
      "execution_count": 1,
      "outputs": [
        {
          "output_type": "stream",
          "text": [
            "/content\n"
          ],
          "name": "stdout"
        }
      ]
    },
    {
      "cell_type": "code",
      "metadata": {
        "id": "OgbdniXo1v6-",
        "colab_type": "code",
        "colab": {
          "base_uri": "https://localhost:8080/",
          "height": 34
        },
        "outputId": "50cbc499-660d-4301-cd53-0bc39c9458a5"
      },
      "source": [
        "!ls"
      ],
      "execution_count": 2,
      "outputs": [
        {
          "output_type": "stream",
          "text": [
            "sample_data\n"
          ],
          "name": "stdout"
        }
      ]
    },
    {
      "cell_type": "code",
      "metadata": {
        "id": "EzTDj-on1v36",
        "colab_type": "code",
        "colab": {
          "base_uri": "https://localhost:8080/",
          "height": 136
        },
        "outputId": "a81b81f0-79f1-450c-beea-11127d85fd99"
      },
      "source": [
        "!git clone https://github.com/shlvd/cs231n_stanford_2019.git"
      ],
      "execution_count": 3,
      "outputs": [
        {
          "output_type": "stream",
          "text": [
            "Cloning into 'cs231n_stanford_2019'...\n",
            "remote: Enumerating objects: 34, done.\u001b[K\n",
            "remote: Counting objects:   2% (1/34)\u001b[K\rremote: Counting objects:   5% (2/34)\u001b[K\rremote: Counting objects:   8% (3/34)\u001b[K\rremote: Counting objects:  11% (4/34)\u001b[K\rremote: Counting objects:  14% (5/34)\u001b[K\rremote: Counting objects:  17% (6/34)\u001b[K\rremote: Counting objects:  20% (7/34)\u001b[K\rremote: Counting objects:  23% (8/34)\u001b[K\rremote: Counting objects:  26% (9/34)\u001b[K\rremote: Counting objects:  29% (10/34)\u001b[K\rremote: Counting objects:  32% (11/34)\u001b[K\rremote: Counting objects:  35% (12/34)\u001b[K\rremote: Counting objects:  38% (13/34)\u001b[K\rremote: Counting objects:  41% (14/34)\u001b[K\rremote: Counting objects:  44% (15/34)\u001b[K\rremote: Counting objects:  47% (16/34)\u001b[K\rremote: Counting objects:  50% (17/34)\u001b[K\rremote: Counting objects:  52% (18/34)\u001b[K\rremote: Counting objects:  55% (19/34)\u001b[K\rremote: Counting objects:  58% (20/34)\u001b[K\rremote: Counting objects:  61% (21/34)\u001b[K\rremote: Counting objects:  64% (22/34)\u001b[K\rremote: Counting objects:  67% (23/34)\u001b[K\rremote: Counting objects:  70% (24/34)\u001b[K\rremote: Counting objects:  73% (25/34)\u001b[K\rremote: Counting objects:  76% (26/34)\u001b[K\rremote: Counting objects:  79% (27/34)\u001b[K\rremote: Counting objects:  82% (28/34)\u001b[K\rremote: Counting objects:  85% (29/34)\u001b[K\rremote: Counting objects:  88% (30/34)\u001b[K\rremote: Counting objects:  91% (31/34)\u001b[K\rremote: Counting objects:  94% (32/34)\u001b[K\rremote: Counting objects:  97% (33/34)\u001b[K\rremote: Counting objects: 100% (34/34)\u001b[K\rremote: Counting objects: 100% (34/34), done.\u001b[K\n",
            "remote: Compressing objects:   3% (1/33)\u001b[K\rremote: Compressing objects:   6% (2/33)\u001b[K\rremote: Compressing objects:   9% (3/33)\u001b[K\rremote: Compressing objects:  12% (4/33)\u001b[K\rremote: Compressing objects:  15% (5/33)\u001b[K\rremote: Compressing objects:  18% (6/33)\u001b[K\rremote: Compressing objects:  21% (7/33)\u001b[K\rremote: Compressing objects:  24% (8/33)\u001b[K\rremote: Compressing objects:  27% (9/33)\u001b[K\rremote: Compressing objects:  30% (10/33)\u001b[K\rremote: Compressing objects:  33% (11/33)\u001b[K\rremote: Compressing objects:  36% (12/33)\u001b[K\rremote: Compressing objects:  39% (13/33)\u001b[K\rremote: Compressing objects:  42% (14/33)\u001b[K\rremote: Compressing objects:  45% (15/33)\u001b[K\rremote: Compressing objects:  48% (16/33)\u001b[K\rremote: Compressing objects:  51% (17/33)\u001b[K\rremote: Compressing objects:  54% (18/33)\u001b[K\rremote: Compressing objects:  57% (19/33)\u001b[K\rremote: Compressing objects:  60% (20/33)\u001b[K\rremote: Compressing objects:  63% (21/33)\u001b[K\rremote: Compressing objects:  66% (22/33)\u001b[K\rremote: Compressing objects:  69% (23/33)\u001b[K\rremote: Compressing objects:  72% (24/33)\u001b[K\rremote: Compressing objects:  75% (25/33)\u001b[K\rremote: Compressing objects:  78% (26/33)\u001b[K\rremote: Compressing objects:  81% (27/33)\u001b[K\rremote: Compressing objects:  84% (28/33)\u001b[K\rremote: Compressing objects:  87% (29/33)\u001b[K\rremote: Compressing objects:  90% (30/33)\u001b[K\rremote: Compressing objects:  93% (31/33)\u001b[K\rremote: Compressing objects:  96% (32/33)\u001b[K\rremote: Compressing objects: 100% (33/33)\u001b[K\rremote: Compressing objects: 100% (33/33), done.\u001b[K\n",
            "Receiving objects:   0% (1/279)   \rReceiving objects:   1% (3/279)   \rReceiving objects:   2% (6/279)   \rReceiving objects:   3% (9/279)   \rReceiving objects:   4% (12/279)   \rReceiving objects:   5% (14/279)   \rReceiving objects:   6% (17/279)   \rReceiving objects:   7% (20/279)   \rReceiving objects:   8% (23/279)   \rReceiving objects:   9% (26/279)   \rReceiving objects:  10% (28/279)   \rReceiving objects:  11% (31/279)   \rReceiving objects:  12% (34/279)   \rReceiving objects:  13% (37/279)   \rReceiving objects:  14% (40/279)   \rReceiving objects:  15% (42/279)   \rReceiving objects:  16% (45/279)   \rReceiving objects:  17% (48/279)   \rReceiving objects:  18% (51/279)   \rReceiving objects:  19% (54/279)   \rReceiving objects:  20% (56/279)   \rReceiving objects:  21% (59/279)   \rReceiving objects:  22% (62/279)   \rReceiving objects:  23% (65/279)   \rReceiving objects:  24% (67/279)   \rReceiving objects:  25% (70/279)   \rReceiving objects:  26% (73/279)   \rReceiving objects:  27% (76/279)   \rReceiving objects:  28% (79/279)   \rReceiving objects:  29% (81/279)   \rReceiving objects:  30% (84/279)   \rReceiving objects:  31% (87/279)   \rReceiving objects:  32% (90/279)   \rReceiving objects:  33% (93/279)   \rReceiving objects:  34% (95/279)   \rReceiving objects:  35% (98/279)   \rReceiving objects:  36% (101/279)   \rReceiving objects:  37% (104/279)   \rReceiving objects:  38% (107/279)   \rReceiving objects:  39% (109/279)   \rReceiving objects:  40% (112/279)   \rReceiving objects:  41% (115/279)   \rReceiving objects:  42% (118/279)   \rReceiving objects:  43% (120/279)   \rReceiving objects:  44% (123/279)   \rReceiving objects:  45% (126/279)   \rReceiving objects:  46% (129/279)   \rReceiving objects:  47% (132/279)   \rReceiving objects:  48% (134/279)   \rReceiving objects:  49% (137/279)   \rReceiving objects:  50% (140/279)   \rReceiving objects:  51% (143/279)   \rReceiving objects:  52% (146/279)   \rReceiving objects:  53% (148/279)   \rReceiving objects:  54% (151/279)   \rReceiving objects:  55% (154/279)   \rReceiving objects:  56% (157/279)   \rReceiving objects:  57% (160/279)   \rReceiving objects:  58% (162/279)   \rReceiving objects:  59% (165/279)   \rReceiving objects:  60% (168/279)   \rReceiving objects:  61% (171/279)   \rReceiving objects:  62% (173/279)   \rReceiving objects:  63% (176/279)   \rReceiving objects:  64% (179/279)   \rReceiving objects:  65% (182/279)   \rReceiving objects:  66% (185/279)   \rReceiving objects:  67% (187/279)   \rReceiving objects:  68% (190/279)   \rReceiving objects:  69% (193/279)   \rReceiving objects:  70% (196/279)   \rReceiving objects:  71% (199/279)   \rReceiving objects:  72% (201/279)   \rReceiving objects:  73% (204/279)   \rReceiving objects:  74% (207/279)   \rReceiving objects:  75% (210/279)   \rReceiving objects:  76% (213/279)   \rReceiving objects:  77% (215/279)   \rReceiving objects:  78% (218/279)   \rReceiving objects:  79% (221/279)   \rReceiving objects:  80% (224/279)   \rReceiving objects:  81% (226/279)   \rReceiving objects:  82% (229/279)   \rReceiving objects:  83% (232/279)   \rReceiving objects:  84% (235/279)   \rReceiving objects:  85% (238/279)   \rReceiving objects:  86% (240/279)   \rReceiving objects:  87% (243/279)   \rReceiving objects:  88% (246/279)   \rReceiving objects:  89% (249/279)   \rReceiving objects:  90% (252/279)   \rReceiving objects:  91% (254/279)   \rReceiving objects:  92% (257/279)   \rReceiving objects:  93% (260/279)   \rReceiving objects:  94% (263/279)   \rReceiving objects:  95% (266/279)   \rReceiving objects:  96% (268/279)   \rReceiving objects:  97% (271/279)   \rremote: Total 279 (delta 13), reused 1 (delta 1), pack-reused 245\u001b[K\n",
            "Receiving objects:  98% (274/279)   \rReceiving objects:  99% (277/279)   \rReceiving objects: 100% (279/279)   \rReceiving objects: 100% (279/279), 2.54 MiB | 14.60 MiB/s, done.\n",
            "Resolving deltas:   0% (0/99)   \rResolving deltas:   4% (4/99)   \rResolving deltas:  27% (27/99)   \rResolving deltas:  34% (34/99)   \rResolving deltas:  36% (36/99)   \rResolving deltas:  37% (37/99)   \rResolving deltas:  38% (38/99)   \rResolving deltas:  40% (40/99)   \rResolving deltas:  41% (41/99)   \rResolving deltas:  42% (42/99)   \rResolving deltas:  43% (43/99)   \rResolving deltas:  61% (61/99)   \rResolving deltas:  62% (62/99)   \rResolving deltas:  75% (75/99)   \rResolving deltas:  76% (76/99)   \rResolving deltas:  77% (77/99)   \rResolving deltas:  79% (79/99)   \rResolving deltas:  80% (80/99)   \rResolving deltas:  82% (82/99)   \rResolving deltas:  83% (83/99)   \rResolving deltas:  84% (84/99)   \rResolving deltas:  86% (86/99)   \rResolving deltas:  93% (93/99)   \rResolving deltas:  96% (96/99)   \rResolving deltas:  97% (97/99)   \rResolving deltas:  98% (98/99)   \rResolving deltas: 100% (99/99)   \rResolving deltas: 100% (99/99), done.\n"
          ],
          "name": "stdout"
        }
      ]
    },
    {
      "cell_type": "code",
      "metadata": {
        "id": "Q7mVST0S1v1I",
        "colab_type": "code",
        "colab": {
          "base_uri": "https://localhost:8080/",
          "height": 34
        },
        "outputId": "54991864-bbbf-41fc-f733-325d2452637e"
      },
      "source": [
        "%cd cs231n_stanford_2019/assignment2"
      ],
      "execution_count": 4,
      "outputs": [
        {
          "output_type": "stream",
          "text": [
            "/content/cs231n_stanford_2019/assignment2\n"
          ],
          "name": "stdout"
        }
      ]
    },
    {
      "cell_type": "code",
      "metadata": {
        "id": "xP85VcNi1vzy",
        "colab_type": "code",
        "colab": {
          "base_uri": "https://localhost:8080/",
          "height": 51
        },
        "outputId": "4214917e-9ca6-4423-8635-748226d11f19"
      },
      "source": [
        "%cd cs231n/datasets/\n",
        "!ls"
      ],
      "execution_count": 5,
      "outputs": [
        {
          "output_type": "stream",
          "text": [
            "/content/cs231n_stanford_2019/assignment2/cs231n/datasets\n",
            "get_datasets.sh\n"
          ],
          "name": "stdout"
        }
      ]
    },
    {
      "cell_type": "code",
      "metadata": {
        "id": "yzB7OSWS1vwg",
        "colab_type": "code",
        "colab": {
          "base_uri": "https://localhost:8080/",
          "height": 357
        },
        "outputId": "ce78cf29-d9d8-4ad9-8d27-5b6e3cad0b95"
      },
      "source": [
        "!wget http://www.cs.toronto.edu/~kriz/cifar-10-python.tar.gz\n",
        "!tar -xzvf cifar-10-python.tar.gz\n",
        "!rm cifar-10-python.tar.gz"
      ],
      "execution_count": 6,
      "outputs": [
        {
          "output_type": "stream",
          "text": [
            "--2019-12-29 13:28:29--  http://www.cs.toronto.edu/~kriz/cifar-10-python.tar.gz\n",
            "Resolving www.cs.toronto.edu (www.cs.toronto.edu)... 128.100.3.30\n",
            "Connecting to www.cs.toronto.edu (www.cs.toronto.edu)|128.100.3.30|:80... connected.\n",
            "HTTP request sent, awaiting response... 200 OK\n",
            "Length: 170498071 (163M) [application/x-gzip]\n",
            "Saving to: ‘cifar-10-python.tar.gz’\n",
            "\n",
            "cifar-10-python.tar 100%[===================>] 162.60M  91.7MB/s    in 1.8s    \n",
            "\n",
            "2019-12-29 13:28:31 (91.7 MB/s) - ‘cifar-10-python.tar.gz’ saved [170498071/170498071]\n",
            "\n",
            "cifar-10-batches-py/\n",
            "cifar-10-batches-py/data_batch_4\n",
            "cifar-10-batches-py/readme.html\n",
            "cifar-10-batches-py/test_batch\n",
            "cifar-10-batches-py/data_batch_3\n",
            "cifar-10-batches-py/batches.meta\n",
            "cifar-10-batches-py/data_batch_2\n",
            "cifar-10-batches-py/data_batch_5\n",
            "cifar-10-batches-py/data_batch_1\n"
          ],
          "name": "stdout"
        }
      ]
    },
    {
      "cell_type": "code",
      "metadata": {
        "id": "-J3eeVjn1vtp",
        "colab_type": "code",
        "colab": {
          "base_uri": "https://localhost:8080/",
          "height": 153
        },
        "outputId": "b1616ad2-8a0c-4719-8cf8-fbd44ae8cb8b"
      },
      "source": [
        "%cd ../\n",
        "!ls"
      ],
      "execution_count": 14,
      "outputs": [
        {
          "output_type": "stream",
          "text": [
            "/content/cs231n_stanford_2019/assignment2\n",
            "BatchNormalization.ipynb     FullyConnectedNets_shlvd.ipynb\n",
            "collectSubmission.sh\t     notebook_images\n",
            "ConvolutionalNetworks.ipynb  PyTorch.ipynb\n",
            "cs231n\t\t\t     requirements.txt\n",
            "Dropout.ipynb\t\t     start_ipython_osx.sh\n",
            "frameworkpython\t\t     TensorFlow.ipynb\n",
            "FullyConnectedNets.ipynb\n"
          ],
          "name": "stdout"
        }
      ]
    },
    {
      "cell_type": "code",
      "metadata": {
        "id": "-eheLTHS1vrC",
        "colab_type": "code",
        "colab": {
          "base_uri": "https://localhost:8080/",
          "height": 51
        },
        "outputId": "e9eb321c-a92c-4d5a-8e1e-6bbf9f144f69"
      },
      "source": [
        "# As usual, a bit of setup\n",
        "import time\n",
        "import numpy as np\n",
        "import matplotlib.pyplot as plt\n",
        "from cs231n.classifiers.fc_net import *\n",
        "from cs231n.data_utils import get_CIFAR10_data\n",
        "from cs231n.gradient_check import eval_numerical_gradient, eval_numerical_gradient_array\n",
        "from cs231n.solver import Solver\n",
        "\n",
        "%matplotlib inline\n",
        "plt.rcParams['figure.figsize'] = (10.0, 8.0) # set default size of plots\n",
        "plt.rcParams['image.interpolation'] = 'nearest'\n",
        "plt.rcParams['image.cmap'] = 'gray'\n",
        "\n",
        "# for auto-reloading external modules\n",
        "# see http://stackoverflow.com/questions/1907993/autoreload-of-modules-in-ipython\n",
        "%load_ext autoreload\n",
        "%autoreload 2\n",
        "\n",
        "def rel_error(x, y):\n",
        "    \"\"\" returns relative error \"\"\"\n",
        "    return np.max(np.abs(x - y) / (np.maximum(1e-8, np.abs(x) + np.abs(y))))\n",
        "\n",
        "def print_mean_std(x,axis=0):\n",
        "    print('  means: ', x.mean(axis=axis))\n",
        "    print('  stds:  ', x.std(axis=axis))\n",
        "    print() "
      ],
      "execution_count": 12,
      "outputs": [
        {
          "output_type": "stream",
          "text": [
            "The autoreload extension is already loaded. To reload it, use:\n",
            "  %reload_ext autoreload\n"
          ],
          "name": "stdout"
        }
      ]
    },
    {
      "cell_type": "code",
      "metadata": {
        "id": "kBJ93JVX1voP",
        "colab_type": "code",
        "colab": {
          "base_uri": "https://localhost:8080/",
          "height": 119
        },
        "outputId": "ed1f50ca-66f5-4604-9b05-6fe806092693"
      },
      "source": [
        "# Load the (preprocessed) CIFAR10 data.\n",
        "data = get_CIFAR10_data()\n",
        "for k, v in data.items():\n",
        "  print('%s: ' % k, v.shape)"
      ],
      "execution_count": 15,
      "outputs": [
        {
          "output_type": "stream",
          "text": [
            "X_train:  (49000, 3, 32, 32)\n",
            "y_train:  (49000,)\n",
            "X_val:  (1000, 3, 32, 32)\n",
            "y_val:  (1000,)\n",
            "X_test:  (1000, 3, 32, 32)\n",
            "y_test:  (1000,)\n"
          ],
          "name": "stdout"
        }
      ]
    },
    {
      "cell_type": "code",
      "metadata": {
        "id": "FOme2WkvWSF5",
        "colab_type": "code",
        "colab": {
          "base_uri": "https://localhost:8080/",
          "height": 374
        },
        "outputId": "525def0c-2679-4965-8cbb-4298e287364b"
      },
      "source": [
        "np.random.seed(231)\n",
        "x = np.random.randn(500, 500) + 10\n",
        "\n",
        "for p in [0.25, 0.4, 0.7]:\n",
        "  out, _ = dropout_forward(x, {'mode': 'train', 'p': p})\n",
        "  out_test, _ = dropout_forward(x, {'mode': 'test', 'p': p})\n",
        "\n",
        "  print('Running tests with p = ', p)\n",
        "  print('Mean of input: ', x.mean())\n",
        "  print('Mean of train-time output: ', out.mean())\n",
        "  print('Mean of test-time output: ', out_test.mean())\n",
        "  print('Fraction of train-time output set to zero: ', (out == 0).mean())\n",
        "  print('Fraction of test-time output set to zero: ', (out_test == 0).mean())\n",
        "  print()"
      ],
      "execution_count": 56,
      "outputs": [
        {
          "output_type": "stream",
          "text": [
            "Running tests with p =  0.25\n",
            "Mean of input:  10.000207878477502\n",
            "Mean of train-time output:  10.014059116977283\n",
            "Mean of test-time output:  10.000207878477502\n",
            "Fraction of train-time output set to zero:  0.749784\n",
            "Fraction of test-time output set to zero:  0.0\n",
            "\n",
            "Running tests with p =  0.4\n",
            "Mean of input:  10.000207878477502\n",
            "Mean of train-time output:  9.977917658761159\n",
            "Mean of test-time output:  10.000207878477502\n",
            "Fraction of train-time output set to zero:  0.600796\n",
            "Fraction of test-time output set to zero:  0.0\n",
            "\n",
            "Running tests with p =  0.7\n",
            "Mean of input:  10.000207878477502\n",
            "Mean of train-time output:  9.987811912159426\n",
            "Mean of test-time output:  10.000207878477502\n",
            "Fraction of train-time output set to zero:  0.30074\n",
            "Fraction of test-time output set to zero:  0.0\n",
            "\n"
          ],
          "name": "stdout"
        }
      ]
    },
    {
      "cell_type": "code",
      "metadata": {
        "id": "mW38uWu8WSCd",
        "colab_type": "code",
        "colab": {
          "base_uri": "https://localhost:8080/",
          "height": 34
        },
        "outputId": "be1724c2-8707-4697-b136-f57fc4bad186"
      },
      "source": [
        "np.random.seed(231)\n",
        "x = np.random.randn(10, 10) + 10\n",
        "dout = np.random.randn(*x.shape)\n",
        "\n",
        "dropout_param = {'mode': 'train', 'p': 0.2, 'seed': 123}\n",
        "out, cache = dropout_forward(x, dropout_param)\n",
        "dx = dropout_backward(dout, cache)\n",
        "dx_num = eval_numerical_gradient_array(lambda xx: dropout_forward(xx, dropout_param)[0], x, dout)\n",
        "\n",
        "# Error should be around e-10 or less\n",
        "print('dx relative error: ', rel_error(dx, dx_num))"
      ],
      "execution_count": 57,
      "outputs": [
        {
          "output_type": "stream",
          "text": [
            "dx relative error:  5.44560814873387e-11\n"
          ],
          "name": "stdout"
        }
      ]
    },
    {
      "cell_type": "code",
      "metadata": {
        "id": "15yEq7GxWSAS",
        "colab_type": "code",
        "colab": {
          "base_uri": "https://localhost:8080/",
          "height": 476
        },
        "outputId": "3ae62964-f093-4e2d-d4d0-976009147967"
      },
      "source": [
        "np.random.seed(231)\n",
        "N, D, H1, H2, C = 2, 15, 20, 30, 10\n",
        "X = np.random.randn(N, D)\n",
        "y = np.random.randint(C, size=(N,))\n",
        "\n",
        "for dropout in [1, 0.75, 0.5]:\n",
        "  print('Running check with dropout = ', dropout)\n",
        "  model = FullyConnectedNet([H1, H2], input_dim=D, num_classes=C,\n",
        "                            weight_scale=5e-2, dtype=np.float64,\n",
        "                            dropout=dropout, seed=123)\n",
        "\n",
        "  loss, grads = model.loss(X, y)\n",
        "  print('Initial loss: ', loss)\n",
        "  \n",
        "  # Relative errors should be around e-6 or less; Note that it's fine\n",
        "  # if for dropout=1 you have W2 error be on the order of e-5.\n",
        "  for name in sorted(grads):\n",
        "    f = lambda _: model.loss(X, y)[0]\n",
        "    grad_num = eval_numerical_gradient(f, model.params[name], verbose=False, h=1e-5)\n",
        "    print('%s relative error: %.2e' % (name, rel_error(grad_num, grads[name])))\n",
        "  print()"
      ],
      "execution_count": 58,
      "outputs": [
        {
          "output_type": "stream",
          "text": [
            "Running check with dropout =  1\n",
            "Initial loss:  2.3004790897684924\n",
            "W1 relative error: 1.48e-07\n",
            "W2 relative error: 2.21e-05\n",
            "W3 relative error: 3.53e-07\n",
            "b1 relative error: 5.38e-09\n",
            "b2 relative error: 2.09e-09\n",
            "b3 relative error: 5.80e-11\n",
            "\n",
            "Running check with dropout =  0.75\n",
            "Initial loss:  2.302371489704412\n",
            "W1 relative error: 1.90e-07\n",
            "W2 relative error: 4.76e-06\n",
            "W3 relative error: 2.60e-08\n",
            "b1 relative error: 4.73e-09\n",
            "b2 relative error: 1.82e-09\n",
            "b3 relative error: 1.70e-10\n",
            "\n",
            "Running check with dropout =  0.5\n",
            "Initial loss:  2.3042759220785896\n",
            "W1 relative error: 3.11e-07\n",
            "W2 relative error: 1.84e-08\n",
            "W3 relative error: 5.35e-08\n",
            "b1 relative error: 5.37e-09\n",
            "b2 relative error: 2.99e-09\n",
            "b3 relative error: 1.13e-10\n",
            "\n"
          ],
          "name": "stdout"
        }
      ]
    },
    {
      "cell_type": "code",
      "metadata": {
        "id": "oJEdW-L6WR91",
        "colab_type": "code",
        "colab": {
          "base_uri": "https://localhost:8080/",
          "height": 1000
        },
        "outputId": "fd5553b3-8930-4434-e092-058335e9e52b"
      },
      "source": [
        "# Train two identical nets, one with dropout and one without\n",
        "np.random.seed(231)\n",
        "num_train = 500\n",
        "small_data = {\n",
        "  'X_train': data['X_train'][:num_train],\n",
        "  'y_train': data['y_train'][:num_train],\n",
        "  'X_val': data['X_val'],\n",
        "  'y_val': data['y_val'],\n",
        "}\n",
        "\n",
        "solvers = {}\n",
        "dropout_choices = [1, 0.25]\n",
        "for dropout in dropout_choices:\n",
        "  model = FullyConnectedNet([500], dropout=dropout)\n",
        "  print(dropout)\n",
        "\n",
        "  solver = Solver(model, small_data,\n",
        "                  num_epochs=25, batch_size=100,\n",
        "                  update_rule='adam',\n",
        "                  optim_config={\n",
        "                    'learning_rate': 5e-4,\n",
        "                  },\n",
        "                  verbose=True, print_every=100)\n",
        "  solver.train()\n",
        "  solvers[dropout] = solver\n",
        "  print()"
      ],
      "execution_count": 59,
      "outputs": [
        {
          "output_type": "stream",
          "text": [
            "1\n",
            "(Iteration 1 / 125) loss: 7.856643\n",
            "(Epoch 0 / 25) train acc: 0.260000; val_acc: 0.184000\n",
            "(Epoch 1 / 25) train acc: 0.416000; val_acc: 0.258000\n",
            "(Epoch 2 / 25) train acc: 0.482000; val_acc: 0.276000\n",
            "(Epoch 3 / 25) train acc: 0.532000; val_acc: 0.277000\n",
            "(Epoch 4 / 25) train acc: 0.600000; val_acc: 0.271000\n",
            "(Epoch 5 / 25) train acc: 0.708000; val_acc: 0.299000\n",
            "(Epoch 6 / 25) train acc: 0.722000; val_acc: 0.282000\n",
            "(Epoch 7 / 25) train acc: 0.832000; val_acc: 0.255000\n",
            "(Epoch 8 / 25) train acc: 0.878000; val_acc: 0.269000\n",
            "(Epoch 9 / 25) train acc: 0.902000; val_acc: 0.275000\n",
            "(Epoch 10 / 25) train acc: 0.888000; val_acc: 0.261000\n",
            "(Epoch 11 / 25) train acc: 0.926000; val_acc: 0.278000\n",
            "(Epoch 12 / 25) train acc: 0.960000; val_acc: 0.302000\n",
            "(Epoch 13 / 25) train acc: 0.964000; val_acc: 0.306000\n",
            "(Epoch 14 / 25) train acc: 0.966000; val_acc: 0.309000\n",
            "(Epoch 15 / 25) train acc: 0.976000; val_acc: 0.288000\n",
            "(Epoch 16 / 25) train acc: 0.988000; val_acc: 0.301000\n",
            "(Epoch 17 / 25) train acc: 0.988000; val_acc: 0.310000\n",
            "(Epoch 18 / 25) train acc: 0.990000; val_acc: 0.311000\n",
            "(Epoch 19 / 25) train acc: 0.990000; val_acc: 0.310000\n",
            "(Epoch 20 / 25) train acc: 0.988000; val_acc: 0.312000\n",
            "(Iteration 101 / 125) loss: 0.084611\n",
            "(Epoch 21 / 25) train acc: 0.990000; val_acc: 0.302000\n",
            "(Epoch 22 / 25) train acc: 0.978000; val_acc: 0.299000\n",
            "(Epoch 23 / 25) train acc: 0.986000; val_acc: 0.291000\n",
            "(Epoch 24 / 25) train acc: 0.994000; val_acc: 0.302000\n",
            "(Epoch 25 / 25) train acc: 0.994000; val_acc: 0.293000\n",
            "\n",
            "0.25\n",
            "(Iteration 1 / 125) loss: 17.318478\n",
            "(Epoch 0 / 25) train acc: 0.230000; val_acc: 0.177000\n",
            "(Epoch 1 / 25) train acc: 0.378000; val_acc: 0.243000\n",
            "(Epoch 2 / 25) train acc: 0.402000; val_acc: 0.254000\n",
            "(Epoch 3 / 25) train acc: 0.502000; val_acc: 0.276000\n",
            "(Epoch 4 / 25) train acc: 0.528000; val_acc: 0.298000\n",
            "(Epoch 5 / 25) train acc: 0.562000; val_acc: 0.297000\n",
            "(Epoch 6 / 25) train acc: 0.626000; val_acc: 0.290000\n",
            "(Epoch 7 / 25) train acc: 0.628000; val_acc: 0.298000\n",
            "(Epoch 8 / 25) train acc: 0.686000; val_acc: 0.310000\n",
            "(Epoch 9 / 25) train acc: 0.722000; val_acc: 0.289000\n",
            "(Epoch 10 / 25) train acc: 0.724000; val_acc: 0.300000\n",
            "(Epoch 11 / 25) train acc: 0.760000; val_acc: 0.306000\n",
            "(Epoch 12 / 25) train acc: 0.772000; val_acc: 0.280000\n",
            "(Epoch 13 / 25) train acc: 0.814000; val_acc: 0.303000\n",
            "(Epoch 14 / 25) train acc: 0.812000; val_acc: 0.339000\n",
            "(Epoch 15 / 25) train acc: 0.852000; val_acc: 0.350000\n",
            "(Epoch 16 / 25) train acc: 0.842000; val_acc: 0.302000\n",
            "(Epoch 17 / 25) train acc: 0.842000; val_acc: 0.285000\n",
            "(Epoch 18 / 25) train acc: 0.846000; val_acc: 0.314000\n",
            "(Epoch 19 / 25) train acc: 0.874000; val_acc: 0.323000\n",
            "(Epoch 20 / 25) train acc: 0.868000; val_acc: 0.311000\n",
            "(Iteration 101 / 125) loss: 5.333846\n",
            "(Epoch 21 / 25) train acc: 0.880000; val_acc: 0.329000\n",
            "(Epoch 22 / 25) train acc: 0.878000; val_acc: 0.299000\n",
            "(Epoch 23 / 25) train acc: 0.902000; val_acc: 0.311000\n",
            "(Epoch 24 / 25) train acc: 0.906000; val_acc: 0.327000\n",
            "(Epoch 25 / 25) train acc: 0.926000; val_acc: 0.337000\n",
            "\n"
          ],
          "name": "stdout"
        }
      ]
    },
    {
      "cell_type": "code",
      "metadata": {
        "id": "U5qT0JPVWR65",
        "colab_type": "code",
        "colab": {
          "base_uri": "https://localhost:8080/",
          "height": 606
        },
        "outputId": "4b28405a-acbc-4e1d-a12a-7a285ec51250"
      },
      "source": [
        "# Plot train and validation accuracies of the two models\n",
        "\n",
        "train_accs = []\n",
        "val_accs = []\n",
        "for dropout in dropout_choices:\n",
        "  solver = solvers[dropout]\n",
        "  train_accs.append(solver.train_acc_history[-1])\n",
        "  val_accs.append(solver.val_acc_history[-1])\n",
        "\n",
        "plt.subplot(3, 1, 1)\n",
        "for dropout in dropout_choices:\n",
        "  plt.plot(solvers[dropout].train_acc_history, 'o', label='%.2f dropout' % dropout)\n",
        "plt.title('Train accuracy')\n",
        "plt.xlabel('Epoch')\n",
        "plt.ylabel('Accuracy')\n",
        "plt.legend(ncol=2, loc='lower right')\n",
        "  \n",
        "plt.subplot(3, 1, 2)\n",
        "for dropout in dropout_choices:\n",
        "  plt.plot(solvers[dropout].val_acc_history, 'o', label='%.2f dropout' % dropout)\n",
        "plt.title('Val accuracy')\n",
        "plt.xlabel('Epoch')\n",
        "plt.ylabel('Accuracy')\n",
        "plt.legend(ncol=2, loc='lower right')\n",
        "\n",
        "plt.gcf().set_size_inches(15, 15)\n",
        "plt.show()"
      ],
      "execution_count": 60,
      "outputs": [
        {
          "output_type": "display_data",
          "data": {
            "image/png": "[encoded data removed]",
            "text/plain": [
              "<Figure size 1080x1080 with 2 Axes>"
            ]
          },
          "metadata": {
            "tags": []
          }
        }
      ]
    }
  ]
}